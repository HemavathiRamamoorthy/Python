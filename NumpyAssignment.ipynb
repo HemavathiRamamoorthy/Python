{
  "nbformat": 4,
  "nbformat_minor": 0,
  "metadata": {
    "colab": {
      "provenance": [],
      "authorship_tag": "ABX9TyMfqDqjfkjIVkdFcpRyWn16",
      "include_colab_link": true
    },
    "kernelspec": {
      "name": "python3",
      "display_name": "Python 3"
    },
    "language_info": {
      "name": "python"
    }
  },
  "cells": [
    {
      "cell_type": "markdown",
      "metadata": {
        "id": "view-in-github",
        "colab_type": "text"
      },
      "source": [
        "<a href=\"https://colab.research.google.com/github/HemavathiRamamoorthy/Python/blob/main/NumpyAssignment.ipynb\" target=\"_parent\"><img src=\"https://colab.research.google.com/assets/colab-badge.svg\" alt=\"Open In Colab\"/></a>"
      ]
    },
    {
      "cell_type": "markdown",
      "source": [
        "#1. Create a 5X2 integer array from a range between 100 to 200 such that the difference between each element is 10 \n"
      ],
      "metadata": {
        "id": "oPR7o1O0BCxq"
      }
    },
    {
      "cell_type": "code",
      "source": [
        "import numpy as np\n",
        "\n",
        "print(\"Creating 5X2 array using numpy.arange\")\n",
        "sampleArray = np.arange(100, 200, 10)\n",
        "sampleArray = sampleArray.reshape(5,2)\n",
        "print (sampleArray)"
      ],
      "metadata": {
        "colab": {
          "base_uri": "https://localhost:8080/"
        },
        "id": "Yr7k0ijaCVKb",
        "outputId": "641e2d86-b40f-46e5-b032-15bfab9a8140"
      },
      "execution_count": null,
      "outputs": [
        {
          "output_type": "stream",
          "name": "stdout",
          "text": [
            "Creating 5X2 array using numpy.arange\n",
            "[[100 110]\n",
            " [120 130]\n",
            " [140 150]\n",
            " [160 170]\n",
            " [180 190]]\n"
          ]
        }
      ]
    },
    {
      "cell_type": "markdown",
      "source": [
        "# 2. Write a NumPy program to create a 3x3x3 array filled with arbitrary values and find the minimum and maximum values"
      ],
      "metadata": {
        "id": "VGh6RO6WBHva"
      }
    },
    {
      "cell_type": "code",
      "source": [
        "x = np.random.random((3, 3, 3))\n",
        "print(x)\n",
        "xMin, xMax = x.min(), x.max()\n",
        "print(\"\\nMin value\",xMin)\n",
        "print(\"Max Value\",xMax)"
      ],
      "metadata": {
        "colab": {
          "base_uri": "https://localhost:8080/"
        },
        "id": "5cEhTqyECjuE",
        "outputId": "bb682708-b45c-438a-ad7b-4f584eda0d1c"
      },
      "execution_count": null,
      "outputs": [
        {
          "output_type": "stream",
          "name": "stdout",
          "text": [
            "[[[0.56169311 0.84393267 0.85281291]\n",
            "  [0.00428961 0.81444992 0.80100257]\n",
            "  [0.39589254 0.50411058 0.33928334]]\n",
            "\n",
            " [[0.95471907 0.77644557 0.30818168]\n",
            "  [0.54962591 0.50286232 0.36742334]\n",
            "  [0.77268101 0.41039678 0.44828735]]\n",
            "\n",
            " [[0.17199733 0.24380025 0.13803161]\n",
            "  [0.05272969 0.53220098 0.88529141]\n",
            "  [0.53634986 0.36075663 0.90604223]]]\n",
            "\n",
            "Min value 0.004289608886572149\n",
            "Max Value 0.9547190688614401\n"
          ]
        }
      ]
    },
    {
      "cell_type": "markdown",
      "source": [
        "# 3. Write a NumPy program to create a 5x5 zero matrix with elements on the main diagonal equal to 1, 2, 3, 4, 5. \n"
      ],
      "metadata": {
        "id": "q6PQ8t-gBM4Z"
      }
    },
    {
      "cell_type": "code",
      "source": [
        "x = np.diag([1, 2, 3, 4, 5])\n",
        "print(x)"
      ],
      "metadata": {
        "colab": {
          "base_uri": "https://localhost:8080/"
        },
        "id": "jfX5FW8bDkMG",
        "outputId": "182c0f8c-e286-46e6-f231-a3cf39e4a4dd"
      },
      "execution_count": null,
      "outputs": [
        {
          "output_type": "stream",
          "name": "stdout",
          "text": [
            "[[1 0 0 0 0]\n",
            " [0 2 0 0 0]\n",
            " [0 0 3 0 0]\n",
            " [0 0 0 4 0]\n",
            " [0 0 0 0 5]]\n"
          ]
        }
      ]
    },
    {
      "cell_type": "markdown",
      "source": [
        "# 4. Given an array \n",
        " arr = np.array([0, 1, 2, 3, 4, 5, 6, 7, 8, 9])\n",
        "  i) \n",
        "Extract all odd numbers from arr \n",
        " ii) Replace all odd numbers in arr with -1 "
      ],
      "metadata": {
        "id": "RRhMGSxTBQRa"
      }
    },
    {
      "cell_type": "code",
      "source": [
        "arr = np.array([0, 1, 2, 3, 4, 5, 6, 7, 8, 9])\n",
        "#i) Extract all odd number\n",
        "print(arr[arr % 2 == 1])\n",
        "#replace odd number with -1\n",
        "arr[arr % 2 == 1]=-1\n",
        "print(arr)"
      ],
      "metadata": {
        "colab": {
          "base_uri": "https://localhost:8080/"
        },
        "id": "OX6UpHX3D0oD",
        "outputId": "0f063556-d545-43f5-b4ce-9b3d14af1d56"
      },
      "execution_count": null,
      "outputs": [
        {
          "output_type": "stream",
          "name": "stdout",
          "text": [
            "[1 3 5 7 9]\n",
            "[ 0 -1  2 -1  4 -1  6 -1  8 -1]\n"
          ]
        }
      ]
    },
    {
      "cell_type": "markdown",
      "source": [
        "#5.Write a NumPy program to create a 3x3 identity matrix, i.e. diagonal elements are 1,the rest are 0. \n"
      ],
      "metadata": {
        "id": "ncKlxjDBBVcp"
      }
    },
    {
      "cell_type": "code",
      "source": [
        "identityMatrix = np.identity(3)\n",
        "print(identityMatrix)"
      ],
      "metadata": {
        "colab": {
          "base_uri": "https://localhost:8080/"
        },
        "id": "PtE6ZdJ4E6tc",
        "outputId": "2c351d2b-fb6b-44a7-fea5-ce90b550721d"
      },
      "execution_count": null,
      "outputs": [
        {
          "output_type": "stream",
          "name": "stdout",
          "text": [
            "[[1. 0. 0.]\n",
            " [0. 1. 0.]\n",
            " [0. 0. 1.]]\n"
          ]
        }
      ]
    },
    {
      "cell_type": "markdown",
      "source": [
        "# 6. Write a NumPy program to convert an array to a float type. \n"
      ],
      "metadata": {
        "id": "Pprzi08_BX-L"
      }
    },
    {
      "cell_type": "code",
      "source": [
        "a = [1, 2, 3, 4]\n",
        "print(\"Original array\")\n",
        "print(a)\n",
        "x = np.asfarray(a)\n",
        "print(\"Array converted to a float type:\")\n",
        "print(x)"
      ],
      "metadata": {
        "colab": {
          "base_uri": "https://localhost:8080/"
        },
        "id": "8qzX2Rm0Fd3X",
        "outputId": "a417273f-6ece-44af-d936-6f10147b050b"
      },
      "execution_count": null,
      "outputs": [
        {
          "output_type": "stream",
          "name": "stdout",
          "text": [
            "Original array\n",
            "[1, 2, 3, 4]\n",
            "Array converted to a float type:\n",
            "[1. 2. 3. 4.]\n"
          ]
        }
      ]
    },
    {
      "cell_type": "markdown",
      "source": [
        "# 7. Write a NumPy program to generate five random numbers from the normal distribution. "
      ],
      "metadata": {
        "id": "OUKUJwUZBavK"
      }
    },
    {
      "cell_type": "code",
      "source": [
        "x = np.random.normal(size=5)\n",
        "print(x)"
      ],
      "metadata": {
        "colab": {
          "base_uri": "https://localhost:8080/"
        },
        "id": "milJKJe4Fkr_",
        "outputId": "74dc5bd4-d4e1-4188-cac4-14ab0e409422"
      },
      "execution_count": null,
      "outputs": [
        {
          "output_type": "stream",
          "name": "stdout",
          "text": [
            "[ 1.41181035 -0.38350925 -0.72786784  0.96318464  0.19231379]\n"
          ]
        }
      ]
    },
    {
      "cell_type": "markdown",
      "source": [
        "# 8. Following is the input NumPy array delete column two and insert following new column in its place. \n",
        "sampleArray=numpy.array([[34,43,73],[82,22,12],[53,94 , 66]])\n",
        "newColumn = numpy.array([[10,10,10]]) \n"
      ],
      "metadata": {
        "id": "iNUdyhh8BgOj"
      }
    },
    {
      "cell_type": "code",
      "source": [
        "sampleArray=numpy.array([[34,43,73],[82,22,12],[53,94 , 66]])\n",
        "print('Original Array\\n',sampleArray)\n",
        "newColumn = numpy.array([[10,10,10]]) \n",
        "sampleArray=numpy.delete(sampleArray,1,axis=1)\n",
        "print('\\nSecond row deleted\\n',sampleArray)\n",
        "sampleArray=numpy.insert(sampleArray,1,newColumn,axis=1)\n",
        "print('\\nNew Row Inserted\\n',sampleArray)"
      ],
      "metadata": {
        "colab": {
          "base_uri": "https://localhost:8080/"
        },
        "id": "AXVbu9g5FvN0",
        "outputId": "7d669ecc-893a-4e80-927f-bdf995672031"
      },
      "execution_count": null,
      "outputs": [
        {
          "output_type": "stream",
          "name": "stdout",
          "text": [
            "Original Array\n",
            " [[34 43 73]\n",
            " [82 22 12]\n",
            " [53 94 66]]\n",
            "\n",
            "Second row deleted\n",
            " [[34 73]\n",
            " [82 12]\n",
            " [53 66]]\n",
            "\n",
            "New Row Inserted\n",
            " [[34 10 73]\n",
            " [82 10 12]\n",
            " [53 10 66]]\n"
          ]
        }
      ]
    },
    {
      "cell_type": "markdown",
      "source": [
        "# 9. Write a NumPy program to compute the multiplication of two given matrices. \n"
      ],
      "metadata": {
        "id": "RvtbvBH3BkNz"
      }
    },
    {
      "cell_type": "code",
      "source": [
        "p = [[1, 0], [0, 1]]\n",
        "q = [[1, 2], [3, 4]]\n",
        "print(\"original matrix:\")\n",
        "print(p)\n",
        "print(q)\n",
        "result1 = np.dot(p, q)\n",
        "print(\"Result of the said matrix multiplication:\")\n",
        "print(result1)"
      ],
      "metadata": {
        "colab": {
          "base_uri": "https://localhost:8080/"
        },
        "id": "19faMXOlIl4A",
        "outputId": "0f07edce-a9fe-4966-ad58-b8b4750a7ddc"
      },
      "execution_count": null,
      "outputs": [
        {
          "output_type": "stream",
          "name": "stdout",
          "text": [
            "original matrix:\n",
            "[[1, 0], [0, 1]]\n",
            "[[1, 2], [3, 4]]\n",
            "Result of the said matrix multiplication:\n",
            "[[1 2]\n",
            " [3 4]]\n"
          ]
        }
      ]
    },
    {
      "cell_type": "markdown",
      "source": [
        "# 10. Write a NumPy program to create a random vector of size 10 and sort it. "
      ],
      "metadata": {
        "id": "zF71wbkvBpY7"
      }
    },
    {
      "cell_type": "code",
      "source": [
        "x = np.random.random(10)\n",
        "print(\"Original array:\")\n",
        "print(x)\n",
        "x.sort()\n",
        "print(\"Sorted array:\")\n",
        "print(x)\n"
      ],
      "metadata": {
        "colab": {
          "base_uri": "https://localhost:8080/"
        },
        "id": "u0rimt9hJIXH",
        "outputId": "45e525c6-0243-4726-ffef-91a29147b862"
      },
      "execution_count": null,
      "outputs": [
        {
          "output_type": "stream",
          "name": "stdout",
          "text": [
            "Original array:\n",
            "[0.19275    0.43397477 0.42429034 0.54901289 0.34904523 0.87687533\n",
            " 0.13203991 0.41292123 0.12576218 0.7831055 ]\n",
            "Sorted array:\n",
            "[0.12576218 0.13203991 0.19275    0.34904523 0.41292123 0.42429034\n",
            " 0.43397477 0.54901289 0.7831055  0.87687533]\n"
          ]
        }
      ]
    },
    {
      "cell_type": "markdown",
      "source": [
        "# 11. Write a NumPy program to compute the covariance matrix of two arrays. "
      ],
      "metadata": {
        "id": "d6aySaN1Bsw7"
      }
    },
    {
      "cell_type": "code",
      "source": [
        "array1 = np.array([0, 1, 1])\n",
        "array2 = np.array([2, 2, 1])\n",
        "\n",
        "# Original array1\n",
        "print(array1)\n",
        "\n",
        "# Original array2\n",
        "print(array2)\n",
        "\n",
        "# Covariance matrix\n",
        "print(\"\\nCovariance matrix of the said arrays:\\n\",\n",
        "\tnp.cov(array1, array2))\n"
      ],
      "metadata": {
        "colab": {
          "base_uri": "https://localhost:8080/"
        },
        "id": "ztpq41RSJLeH",
        "outputId": "e7030ea1-2507-42a2-b18f-7bbb44b4586b"
      },
      "execution_count": null,
      "outputs": [
        {
          "output_type": "stream",
          "name": "stdout",
          "text": [
            "[0 1 1]\n",
            "[2 2 1]\n",
            "\n",
            "Covariance matrix of the said arrays:\n",
            " [[ 0.33333333 -0.16666667]\n",
            " [-0.16666667  0.33333333]]\n"
          ]
        }
      ]
    },
    {
      "cell_type": "markdown",
      "source": [
        "# 12. Create a 4X2 integer array and Prints its \n",
        ": i)The shape of an array. \n",
        "ii) Array dimensions. \n",
        " iii) The Length of each element of the array in bytes\n"
      ],
      "metadata": {
        "id": "MGCpyan7Bv5j"
      }
    },
    {
      "cell_type": "code",
      "source": [
        "firstArray = numpy.empty([4,2], dtype = numpy.uint16) \n",
        "print(\"Printing Array\")\n",
        "print(firstArray)\n",
        "\n",
        "print(\"Printing numpy array Attributes\")\n",
        "print(\"i) Array Shape is: \", firstArray.shape)\n",
        "print(\"ii) Array dimensions are \", firstArray.ndim)\n",
        "print(\"iii) Length of each element of array in bytes is \", firstArray.itemsize)"
      ],
      "metadata": {
        "colab": {
          "base_uri": "https://localhost:8080/"
        },
        "id": "i0FAFs3LJmVO",
        "outputId": "a9505c4c-569d-49d8-ff7c-b5f393b23aff"
      },
      "execution_count": null,
      "outputs": [
        {
          "output_type": "stream",
          "name": "stdout",
          "text": [
            "Printing Array\n",
            "[[    0     0]\n",
            " [    0 16392]\n",
            " [    0     0]\n",
            " [    0 16392]]\n",
            "Printing numpy array Attributes\n",
            "i) Array Shape is:  (4, 2)\n",
            "ii) Array dimensions are  2\n",
            "iii) Length of each element of array in bytes is  2\n"
          ]
        }
      ]
    },
    {
      "cell_type": "markdown",
      "source": [
        "# 13. Write a NumPy program to concatenate element-wise two arrays of string. "
      ],
      "metadata": {
        "id": "y2Pdhh0SBzns"
      }
    },
    {
      "cell_type": "code",
      "source": [
        "# creating array as first_name\n",
        "first_name = np.array(['Akash', 'Ayush', 'Diksha',\n",
        "                       'Radhika'], dtype = np.str)\n",
        "print(\"Printing first name array:\")\n",
        "print(first_name)\n",
        " \n",
        "# creating array as last name\n",
        "last_name = np.array(['Kumar', 'Sharma', 'Tewari',\n",
        "                      'Pegowal'], dtype = np.str)\n",
        "print(\"Printing last name array:\")\n",
        "print(last_name)\n",
        " \n",
        "# concat first_name and last_name\n",
        "# into new array named as full_name\n",
        "full_name = np.char.add(first_name, last_name)\n",
        "print(\"\\nPrinting concatenate array as full name:\")\n",
        "print(full_name)"
      ],
      "metadata": {
        "colab": {
          "base_uri": "https://localhost:8080/"
        },
        "id": "46q2Q2e_J_BQ",
        "outputId": "de2b6d31-fe41-4520-9cac-3ccf8585e03b"
      },
      "execution_count": null,
      "outputs": [
        {
          "output_type": "stream",
          "name": "stdout",
          "text": [
            "Printing first name array:\n",
            "['Akash' 'Ayush' 'Diksha' 'Radhika']\n",
            "Printing last name array:\n",
            "['Kumar' 'Sharma' 'Tewari' 'Pegowal']\n",
            "\n",
            "Printing concatenate array as full name:\n",
            "['AkashKumar' 'AyushSharma' 'DikshaTewari' 'RadhikaPegowal']\n"
          ]
        }
      ]
    },
    {
      "cell_type": "markdown",
      "source": [
        "# 14. Write a NumPy program to capitalize the first letter, lowercase, uppercase, swapcase, title-case of all the elements of a given array. \n"
      ],
      "metadata": {
        "id": "LJH3hEV4B6Hb"
      }
    },
    {
      "cell_type": "code",
      "source": [
        "x = np.array(['python', 'PHP', 'java', 'C++'], dtype=np.str)\n",
        "print(\"Original Array:\")\n",
        "print(x)\n",
        "capitalized_case = np.char.capitalize(x)\n",
        "lowered_case = np.char.lower(x)\n",
        "uppered_case = np.char.upper(x)\n",
        "swapcased_case = np.char.swapcase(x)\n",
        "titlecased_case = np.char.title(x)\n",
        "print(\"\\nCapitalized: \", capitalized_case)\n",
        "print(\"Lowered: \", lowered_case)\n",
        "print(\"Uppered: \", uppered_case)\n",
        "print(\"Swapcased: \", swapcased_case)\n",
        "print(\"Titlecased: \", titlecased_case)"
      ],
      "metadata": {
        "colab": {
          "base_uri": "https://localhost:8080/"
        },
        "id": "G8_ErGXsKH63",
        "outputId": "cf43315e-f6d9-4b9c-fd17-3e2e08fdb3e8"
      },
      "execution_count": null,
      "outputs": [
        {
          "output_type": "stream",
          "name": "stdout",
          "text": [
            "Original Array:\n",
            "['python' 'PHP' 'java' 'C++']\n",
            "\n",
            "Capitalized:  ['Python' 'Php' 'Java' 'C++']\n",
            "Lowered:  ['python' 'php' 'java' 'c++']\n",
            "Uppered:  ['PYTHON' 'PHP' 'JAVA' 'C++']\n",
            "Swapcased:  ['PYTHON' 'php' 'JAVA' 'c++']\n",
            "Titlecased:  ['Python' 'Php' 'Java' 'C++']\n"
          ]
        }
      ]
    },
    {
      "cell_type": "markdown",
      "source": [
        "# 15. Write a NumPy program to convert a given array into a list. "
      ],
      "metadata": {
        "id": "mnkRO8psB9bb"
      }
    },
    {
      "cell_type": "code",
      "source": [
        "# create array\n",
        "print(\"\\nArray:\")\n",
        "arr = np.array([1, 2, 4, 5])  \n",
        "print(arr)\n",
        "print(type(arr))\n",
        "  \n",
        "# apply method\n",
        "lis = arr.tolist()\n",
        "  \n",
        "# display list\n",
        "print(\"\\nList:\")\n",
        "print(lis)\n",
        "print(type(lis))"
      ],
      "metadata": {
        "colab": {
          "base_uri": "https://localhost:8080/"
        },
        "id": "lGX3zA4XKfQf",
        "outputId": "7f12960f-a8c1-4a4c-ca08-d0e21d25ed8e"
      },
      "execution_count": null,
      "outputs": [
        {
          "output_type": "stream",
          "name": "stdout",
          "text": [
            "\n",
            "Array:\n",
            "[1 2 4 5]\n",
            "<class 'numpy.ndarray'>\n",
            "\n",
            "List:\n",
            "[1, 2, 4, 5]\n",
            "<class 'list'>\n"
          ]
        }
      ]
    },
    {
      "cell_type": "markdown",
      "source": [
        "# 16. Write a NumPy program to compute the sum of all elements, sum of each column and sum of each row of a given array. \n"
      ],
      "metadata": {
        "id": "3JApKa2eB_Q7"
      }
    },
    {
      "cell_type": "code",
      "source": [
        "x = np.array([[0,1],[2,3]])\n",
        "print(\"Original array:\")\n",
        "print(x)\n",
        "print(\"Sum of all elements:\")\n",
        "print(np.sum(x))\n",
        "print(\"Sum of each column:\")\n",
        "print(np.sum(x, axis=0))\n",
        "print(\"Sum of each row:\")\n",
        "print(np.sum(x, axis=1))\n"
      ],
      "metadata": {
        "colab": {
          "base_uri": "https://localhost:8080/"
        },
        "id": "dgrrA4qMK1cH",
        "outputId": "271b8348-6767-4f55-db76-f8a660c7709f"
      },
      "execution_count": null,
      "outputs": [
        {
          "output_type": "stream",
          "name": "stdout",
          "text": [
            "Original array:\n",
            "[[0 1]\n",
            " [2 3]]\n",
            "Sum of all elements:\n",
            "6\n",
            "Sum of each column:\n",
            "[2 4]\n",
            "Sum of each row:\n",
            "[1 5]\n"
          ]
        }
      ]
    },
    {
      "cell_type": "markdown",
      "source": [
        "# 17. Write a NumPy program to create a random 10x4 array and extract the first five rows of the array and store them into a variable. "
      ],
      "metadata": {
        "id": "TyL_DgEiCEU7"
      }
    },
    {
      "cell_type": "code",
      "source": [
        "x = np.random.rand(10, 4)\n",
        "print(\"Original array: \")\n",
        "print(x)\n",
        "y= x[:5, :]\n",
        "print(\"First 5 rows of the above array:\")\n",
        "print(y)"
      ],
      "metadata": {
        "colab": {
          "base_uri": "https://localhost:8080/"
        },
        "id": "28cMdQZnLEiu",
        "outputId": "aee9065f-fade-47ab-8d05-9b6dfec4fcfb"
      },
      "execution_count": null,
      "outputs": [
        {
          "output_type": "stream",
          "name": "stdout",
          "text": [
            "Original array: \n",
            "[[0.41749048 0.65246009 0.99971012 0.58714641]\n",
            " [0.03205664 0.90895263 0.92973222 0.60325642]\n",
            " [0.47439345 0.32823024 0.34521269 0.94894652]\n",
            " [0.51510397 0.79366605 0.04650277 0.37696769]\n",
            " [0.5295408  0.25643023 0.49297154 0.77354508]\n",
            " [0.72304291 0.71436742 0.74460261 0.8249189 ]\n",
            " [0.42633796 0.79538658 0.17951754 0.29241964]\n",
            " [0.31617103 0.49921482 0.55508416 0.14520816]\n",
            " [0.54682906 0.91910058 0.67802017 0.06763609]\n",
            " [0.52264273 0.15127834 0.6952789  0.13810848]]\n",
            "First 5 rows of the above array:\n",
            "[[0.41749048 0.65246009 0.99971012 0.58714641]\n",
            " [0.03205664 0.90895263 0.92973222 0.60325642]\n",
            " [0.47439345 0.32823024 0.34521269 0.94894652]\n",
            " [0.51510397 0.79366605 0.04650277 0.37696769]\n",
            " [0.5295408  0.25643023 0.49297154 0.77354508]]\n"
          ]
        }
      ]
    },
    {
      "cell_type": "markdown",
      "source": [
        "# 18. Write a NumPy program to get the unique elements of\n",
        "a 1D and 2D array. \n"
      ],
      "metadata": {
        "id": "N226MSMHCINi"
      }
    },
    {
      "cell_type": "code",
      "source": [
        "x = np.array([10, 10, 20, 20, 30, 30])\n",
        "print(\"Original array:\")\n",
        "print(x)\n",
        "print(\"Unique elements of the 1D array:\")\n",
        "print(np.unique(x))\n",
        "x = np.array([[1, 1], [2, 3]])\n",
        "print(\"\\nOriginal array:\")\n",
        "print(x)\n",
        "print(\"Unique elements of the 2D array:\")\n",
        "print(np.unique(x))"
      ],
      "metadata": {
        "colab": {
          "base_uri": "https://localhost:8080/"
        },
        "id": "ixjX_VZZLQPm",
        "outputId": "8acdec2f-c081-4c24-b5c6-c15fe5ceef06"
      },
      "execution_count": null,
      "outputs": [
        {
          "output_type": "stream",
          "name": "stdout",
          "text": [
            "Original array:\n",
            "[10 10 20 20 30 30]\n",
            "Unique elements of the 1D array:\n",
            "[10 20 30]\n",
            "\n",
            "Original array:\n",
            "[[1 1]\n",
            " [2 3]]\n",
            "Unique elements of the 2D array:\n",
            "[1 2 3]\n"
          ]
        }
      ]
    },
    {
      "cell_type": "markdown",
      "source": [
        "# 19. Write a NumPy program to get the unique elements of an array. \n",
        " arr= [ -10 12.12 -0.2] "
      ],
      "metadata": {
        "id": "nbiBhqdeCKzi"
      }
    },
    {
      "cell_type": "code",
      "source": [
        "arr= [ -10,12,12,-0.2]\n",
        "rslt = np.unique(arr)\n",
        "\n",
        "print(rslt)"
      ],
      "metadata": {
        "colab": {
          "base_uri": "https://localhost:8080/"
        },
        "id": "mHGwKUs0LdQN",
        "outputId": "22b2e8e3-5fad-4d8f-9ca0-c5af1719cdc6"
      },
      "execution_count": null,
      "outputs": [
        {
          "output_type": "stream",
          "name": "stdout",
          "text": [
            "[-10.   -0.2  12. ]\n"
          ]
        }
      ]
    },
    {
      "cell_type": "markdown",
      "source": [
        "# 20. Write a NumPy program to save a given array to a text file and load it. You have to save and load files using numpy library ."
      ],
      "metadata": {
        "id": "sAB5Tsc3CNRD"
      }
    },
    {
      "cell_type": "code",
      "source": [
        "# Creating an array\n",
        "List = [1, 2, 3, 4, 5]\n",
        "Array = np.array(List)\n",
        " \n",
        "# Displaying the array\n",
        "print('Array:\\n', Array)\n",
        "file = open(\"file1.txt\", \"w+\")\n",
        " \n",
        "# Saving the array in a text file\n",
        "content = str(Array)\n",
        "file.write(content)\n",
        "file.close()\n",
        " \n",
        "# Displaying the contents of the text file\n",
        "file = open(\"file1.txt\", \"r\")\n",
        "content = file.read()\n",
        " \n",
        "print(\"\\nContent in file1.txt:\\n\", content)\n",
        "file.close()"
      ],
      "metadata": {
        "colab": {
          "base_uri": "https://localhost:8080/"
        },
        "id": "mA6e0E0vMCcX",
        "outputId": "c9fb241c-e2bd-4b35-db13-2e23dc7e77da"
      },
      "execution_count": null,
      "outputs": [
        {
          "output_type": "stream",
          "name": "stdout",
          "text": [
            "Array:\n",
            " [1 2 3 4 5]\n",
            "\n",
            "Content in file1.txt:\n",
            " [1 2 3 4 5]\n"
          ]
        }
      ]
    }
  ]
}