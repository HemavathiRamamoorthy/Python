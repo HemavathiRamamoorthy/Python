{
  "nbformat": 4,
  "nbformat_minor": 0,
  "metadata": {
    "colab": {
      "provenance": [],
      "toc_visible": true,
      "authorship_tag": "ABX9TyMcELo+PpnbojurpauVKLb5",
      "include_colab_link": true
    },
    "kernelspec": {
      "name": "python3",
      "display_name": "Python 3"
    },
    "language_info": {
      "name": "python"
    }
  },
  "cells": [
    {
      "cell_type": "markdown",
      "metadata": {
        "id": "view-in-github",
        "colab_type": "text"
      },
      "source": [
        "<a href=\"https://colab.research.google.com/github/HemavathiRamamoorthy/Python/blob/main/OOPs_Assignment.ipynb\" target=\"_parent\"><img src=\"https://colab.research.google.com/assets/colab-badge.svg\" alt=\"Open In Colab\"/></a>"
      ]
    },
    {
      "cell_type": "markdown",
      "source": [
        "# 1. Create an empty class\n",
        "\n",
        "class Dog:\n",
        "species = \"Canis familiaris\"\n",
        "def __init__(self, name, age):\n",
        "self.name = name\n",
        "self.age = age\n",
        "buddy = Dog(\"Buddy\", 9)\n",
        "miles = Dog(\"Miles\", 4)"
      ],
      "metadata": {
        "id": "A8-o3V-RtE25"
      }
    },
    {
      "cell_type": "code",
      "source": [
        "#Empty class \n",
        "class Employee:\n",
        "    pass\n",
        "\n",
        "    obj1 = Employee()"
      ],
      "metadata": {
        "id": "GCC8aUEMvDoE"
      },
      "execution_count": null,
      "outputs": []
    },
    {
      "cell_type": "code",
      "source": [
        "#given class\n",
        "class Dog:\n",
        "  species = 'Canis familiaris'\n",
        "  def __init__(self, name, age):\n",
        "    self.name = name\n",
        "    self.age=age  \n",
        "  \n",
        "buddy = Dog('Buddy',12)\n",
        "miles = Dog('Miles',4) "
      ],
      "metadata": {
        "id": "dTg1z06Qxmsy"
      },
      "execution_count": null,
      "outputs": []
    },
    {
      "cell_type": "markdown",
      "source": [
        "# 2. Given the Dog class above retrieve the Object and class attributes."
      ],
      "metadata": {
        "id": "CoK1PY1FtLkq"
      }
    },
    {
      "cell_type": "code",
      "source": [
        "#retrieve the Object attribute\n",
        "print(buddy.__dir__)\n",
        "print(miles.__dir__)\n",
        "#retrive the class attribute\n",
        "print(dir(buddy))\n",
        "print(dir(miles))"
      ],
      "metadata": {
        "colab": {
          "base_uri": "https://localhost:8080/"
        },
        "id": "HLmizx7bzNbo",
        "outputId": "50bd7165-df06-4e59-e7be-e07ce9393a42"
      },
      "execution_count": null,
      "outputs": [
        {
          "output_type": "stream",
          "name": "stdout",
          "text": [
            "<built-in method __dir__ of Dog object at 0x7f17db8d75d0>\n",
            "<built-in method __dir__ of Dog object at 0x7f17db8d7890>\n",
            "['__class__', '__delattr__', '__dict__', '__dir__', '__doc__', '__eq__', '__format__', '__ge__', '__getattribute__', '__gt__', '__hash__', '__init__', '__init_subclass__', '__le__', '__lt__', '__module__', '__ne__', '__new__', '__reduce__', '__reduce_ex__', '__repr__', '__setattr__', '__sizeof__', '__str__', '__subclasshook__', '__weakref__', 'age', 'name', 'species']\n",
            "['__class__', '__delattr__', '__dict__', '__dir__', '__doc__', '__eq__', '__format__', '__ge__', '__getattribute__', '__gt__', '__hash__', '__init__', '__init_subclass__', '__le__', '__lt__', '__module__', '__ne__', '__new__', '__reduce__', '__reduce_ex__', '__repr__', '__setattr__', '__sizeof__', '__str__', '__subclasshook__', '__weakref__', 'age', 'name', 'species']\n"
          ]
        }
      ]
    },
    {
      "cell_type": "markdown",
      "source": [
        "# 3. Write a Python class named Circle constructed by a radius\n",
        "and two methods which will compute the area and the perimeter of a circle."
      ],
      "metadata": {
        "id": "3j9qsC7RtugP"
      }
    },
    {
      "cell_type": "code",
      "source": [
        "class Circle():\n",
        "    def __init__(self, r):\n",
        "        self.radius = r\n",
        "\n",
        "    def area(self):\n",
        "        return self.radius**2*3.14\n",
        "    \n",
        "    def perimeter(self):\n",
        "        return 2*self.radius*3.14\n",
        "\n",
        "NewCircle = Circle(8)\n",
        "print('Area of circle ::',NewCircle.area())\n",
        "print('Perimeter of circle :: ',NewCircle.perimeter())"
      ],
      "metadata": {
        "colab": {
          "base_uri": "https://localhost:8080/"
        },
        "id": "WAt4aJw51cjv",
        "outputId": "f47e6cf8-90c3-4981-9e44-62d23297a102"
      },
      "execution_count": null,
      "outputs": [
        {
          "output_type": "stream",
          "name": "stdout",
          "text": [
            "Area of circle :: 200.96\n",
            "Perimeter of circle ::  50.24\n"
          ]
        }
      ]
    },
    {
      "cell_type": "markdown",
      "source": [
        "#4. Write a Python class to reverse a string word by word.\n",
        "For example:\n",
        "Input string : 'hello world'\n",
        "Expected Output : 'world hello'"
      ],
      "metadata": {
        "id": "g23BmUWut-0n"
      }
    },
    {
      "cell_type": "code",
      "source": [
        "class ReverseWordClass:\n",
        "    def reverse_words(self, s):\n",
        "        return ' '.join(reversed(s.split()))\n",
        "\n",
        "\n",
        "print(ReverseWordClass().reverse_words('hello world'))"
      ],
      "metadata": {
        "colab": {
          "base_uri": "https://localhost:8080/"
        },
        "id": "mR37d5it1w1b",
        "outputId": "5f4bda8d-c3d2-49bf-ad5d-f6d75c743646"
      },
      "execution_count": null,
      "outputs": [
        {
          "output_type": "stream",
          "name": "stdout",
          "text": [
            "world hello\n"
          ]
        }
      ]
    },
    {
      "cell_type": "markdown",
      "source": [
        "# 5. Create a Student class and initialize it with name and roll number. Make methods to : \n",
        " i) Display - It should display all information of the student.  ii)setAge - It should assign age to student \n",
        " iii) setMarks - It should assign marks to the student."
      ],
      "metadata": {
        "id": "BPsEJwSruJfn"
      }
    },
    {
      "cell_type": "code",
      "source": [
        "#student class\n",
        "class student:\n",
        "  def __init__(self, roll, name): #to initialize roll and name\n",
        "    self.roll=roll\n",
        "    self.name=name\n",
        "  def display(self): # i. to display student's information\n",
        "    print(self.roll,self.name,self.age,self.marks)\n",
        "  def setAge(self): # ii. to set age of the student\n",
        "    self.age=int(input(\"Enter age for \"+self.name + \" :\"))\n",
        "  def setMarks(self): # iii. to set marks of the student\n",
        "    self.marks=int(input(\"Enter marks for \"+self.name+\" :\"))"
      ],
      "metadata": {
        "id": "YRT_EwYK2NVq"
      },
      "execution_count": null,
      "outputs": []
    },
    {
      "cell_type": "code",
      "source": [
        "\n",
        "s1=student(111,\"Madhuri\") #creating objects\n",
        "s2=student(222,\"Tara\")\n",
        "\n",
        "#calling methods\n",
        "s1.setAge()\n",
        "s1.setMarks()\n",
        "s2.setAge()\n",
        "s2.setMarks()\n",
        "s1.display()\n",
        "s2.display()"
      ],
      "metadata": {
        "colab": {
          "base_uri": "https://localhost:8080/"
        },
        "id": "UNxh5PWS2tL8",
        "outputId": "f05347e1-8286-4303-b666-935ebff4073a"
      },
      "execution_count": null,
      "outputs": [
        {
          "output_type": "stream",
          "name": "stdout",
          "text": [
            "Enter age for Madhuri :23\n",
            "Enter marks for Madhuri :100\n",
            "Enter age for Tara :24\n",
            "Enter marks for Tara :98\n",
            "111 Madhuri 23 100\n",
            "222 Tara 24 98\n"
          ]
        }
      ]
    },
    {
      "cell_type": "markdown",
      "source": [
        "# 6. Write a Python class named Rectangle constructed by a length and width and a method which will compute the area of a rectangle.\n"
      ],
      "metadata": {
        "id": "Sq1U8mtPuLmB"
      }
    },
    {
      "cell_type": "code",
      "source": [
        "class Rectangle():\n",
        "    def __init__(self, l, w):\n",
        "        self.length = l\n",
        "        self.width  = w\n",
        "\n",
        "    def rectangle_area(self):\n",
        "        return self.length*self.width\n",
        "\n",
        "newRectangle = Rectangle(10, 15)\n",
        "print('Area of rectangle :: ',newRectangle.rectangle_area())\n"
      ],
      "metadata": {
        "colab": {
          "base_uri": "https://localhost:8080/"
        },
        "id": "buJlYvdb3KS7",
        "outputId": "fdf9b27b-5ba0-4004-eaab-1b494badd6ab"
      },
      "execution_count": null,
      "outputs": [
        {
          "output_type": "stream",
          "name": "stdout",
          "text": [
            "Area of rectangle ::  150\n"
          ]
        }
      ]
    }
  ]
}