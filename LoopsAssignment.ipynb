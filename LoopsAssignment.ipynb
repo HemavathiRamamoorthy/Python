{
  "nbformat": 4,
  "nbformat_minor": 0,
  "metadata": {
    "colab": {
      "provenance": [],
      "toc_visible": true,
      "authorship_tag": "ABX9TyP/BsjXzsD4tX/gwjdILwQm",
      "include_colab_link": true
    },
    "kernelspec": {
      "name": "python3",
      "display_name": "Python 3"
    },
    "language_info": {
      "name": "python"
    }
  },
  "cells": [
    {
      "cell_type": "markdown",
      "metadata": {
        "id": "view-in-github",
        "colab_type": "text"
      },
      "source": [
        "<a href=\"https://colab.research.google.com/github/HemavathiRamamoorthy/Python/blob/main/LoopsAssignment.ipynb\" target=\"_parent\"><img src=\"https://colab.research.google.com/assets/colab-badge.svg\" alt=\"Open In Colab\"/></a>"
      ]
    },
    {
      "cell_type": "markdown",
      "source": [
        "# 1. Print First 10 natural numbers using while loop"
      ],
      "metadata": {
        "id": "snAK9Vl44uwg"
      }
    },
    {
      "cell_type": "code",
      "source": [
        "i = 1\n",
        "while(i<=10):\n",
        "    print(i)\n",
        "    i += 1"
      ],
      "metadata": {
        "colab": {
          "base_uri": "https://localhost:8080/"
        },
        "id": "tXWv6I6h4yC5",
        "outputId": "0dccec23-39f8-4061-adbe-a415310cf1c2"
      },
      "execution_count": null,
      "outputs": [
        {
          "output_type": "stream",
          "name": "stdout",
          "text": [
            "1\n",
            "2\n",
            "3\n",
            "4\n",
            "5\n",
            "6\n",
            "7\n",
            "8\n",
            "9\n",
            "10\n"
          ]
        }
      ]
    },
    {
      "cell_type": "markdown",
      "source": [
        "# 2. Display -10 to -1 using for loop \n"
      ],
      "metadata": {
        "id": "1zrxdUqE5G6c"
      }
    },
    {
      "cell_type": "code",
      "source": [
        "for i in range(-10, 0):\n",
        "    print(i)"
      ],
      "metadata": {
        "colab": {
          "base_uri": "https://localhost:8080/"
        },
        "id": "ZrjdCqHY5IeC",
        "outputId": "80285d3d-cf9c-4149-fea2-196ea5003a64"
      },
      "execution_count": null,
      "outputs": [
        {
          "output_type": "stream",
          "name": "stdout",
          "text": [
            "-10\n",
            "-9\n",
            "-8\n",
            "-7\n",
            "-6\n",
            "-5\n",
            "-4\n",
            "-3\n",
            "-2\n",
            "-1\n"
          ]
        }
      ]
    },
    {
      "cell_type": "markdown",
      "source": [
        "# 3. Write a python program to print the factorial of a given number "
      ],
      "metadata": {
        "id": "PGbL6G-U5sOD"
      }
    },
    {
      "cell_type": "code",
      "source": [
        "def factorial(n):\n",
        "     \n",
        "    return 1 if (n==1 or n==0) else n * factorial(n - 1);\n",
        " \n",
        "\n",
        "num = 5;\n",
        "print(\"Factorial of\",num,\"is\",factorial(num))"
      ],
      "metadata": {
        "colab": {
          "base_uri": "https://localhost:8080/"
        },
        "id": "CKjoYPfk5_0D",
        "outputId": "16ad88f1-2c84-488d-8e93-a5eb8e56b55a"
      },
      "execution_count": null,
      "outputs": [
        {
          "output_type": "stream",
          "name": "stdout",
          "text": [
            "Factorial of 5 is 120\n"
          ]
        }
      ]
    },
    {
      "cell_type": "markdown",
      "source": [
        "# 4. Write a python program to print all prime numbers between 0 to 100 , and print how many prime numbers are there. \n"
      ],
      "metadata": {
        "id": "994yRwr16GVP"
      }
    },
    {
      "cell_type": "code",
      "source": [
        "primeList=[]\n",
        "for num in range(0, 101):\n",
        "   # all prime numbers are greater than 1\n",
        "   if num > 1:\n",
        "       for i in range(2, num):\n",
        "           if (num % i) == 0:\n",
        "               break\n",
        "       else:\n",
        "          # print(num)\n",
        "           primeList.append(num)\n",
        "\n",
        "\n",
        "          \n",
        "print('Prime numbers in between 0 to 100 are \\n',primeList)\n",
        "print('Number of prime numbers are ',len(primeList))"
      ],
      "metadata": {
        "colab": {
          "base_uri": "https://localhost:8080/"
        },
        "id": "eTXxhJ796IBn",
        "outputId": "25b3d90e-e6b1-4c63-b781-660d33d68f84"
      },
      "execution_count": null,
      "outputs": [
        {
          "output_type": "stream",
          "name": "stdout",
          "text": [
            "Prime numbers in between 0 to 100 are \n",
            " [2, 3, 5, 7, 11, 13, 17, 19, 23, 29, 31, 37, 41, 43, 47, 53, 59, 61, 67, 71, 73, 79, 83, 89, 97]\n",
            "Number of prime numbers are  25\n"
          ]
        }
      ]
    },
    {
      "cell_type": "markdown",
      "source": [
        "# 5. Print the following pattern : \n",
        "1 \n",
        "1 2 \n",
        "1 2 3 \n",
        "1 2 3 4 \n",
        "1 2 3 4 5 "
      ],
      "metadata": {
        "id": "U0m-Y-yr7zwx"
      }
    },
    {
      "cell_type": "code",
      "source": [
        "def numpat(n):\n",
        "    num = 1\n",
        "    for i in range(0, n):\n",
        "        num = 1\n",
        "        for j in range(0, i+1):\n",
        "            print(num, end=\" \")\n",
        "            num = num + 1\n",
        "     \n",
        "        print(\"\\r\")\n",
        " \n",
        "n = 5\n",
        "numpat(n)"
      ],
      "metadata": {
        "colab": {
          "base_uri": "https://localhost:8080/"
        },
        "id": "q3EI1xzh8PZw",
        "outputId": "0b8479b9-aa00-48f6-e4ab-f992efe1631e"
      },
      "execution_count": null,
      "outputs": [
        {
          "output_type": "stream",
          "name": "stdout",
          "text": [
            "1 \r\n",
            "1 2 \r\n",
            "1 2 3 \r\n",
            "1 2 3 4 \r\n",
            "1 2 3 4 5 \r\n"
          ]
        }
      ]
    },
    {
      "cell_type": "markdown",
      "source": [
        "# 6. Accept n number from user and calculate the sum of all number between 1 and n including n \n"
      ],
      "metadata": {
        "id": "PhRJksRi8lrP"
      }
    },
    {
      "cell_type": "code",
      "source": [
        "n = int(input(\"Enter number ::  \"))\n",
        "sum = 0\n",
        "for num in range(1, n + 1, 1):\n",
        "    sum = sum + num\n",
        "print(\"Sum of numbers is: \", sum)"
      ],
      "metadata": {
        "colab": {
          "base_uri": "https://localhost:8080/"
        },
        "id": "i24JsOlX88cQ",
        "outputId": "735cb9e8-6d8c-4bc2-c323-9d892a35d75b"
      },
      "execution_count": null,
      "outputs": [
        {
          "output_type": "stream",
          "name": "stdout",
          "text": [
            "Enter number ::  5\n",
            "Sum of numbers is:  15\n"
          ]
        }
      ]
    },
    {
      "cell_type": "markdown",
      "source": [
        "#7. Given a number count the total number of digits in a number. \n"
      ],
      "metadata": {
        "id": "xYmM0_Qw9Ndm"
      }
    },
    {
      "cell_type": "code",
      "source": [
        "n=int(input(\"Enter number:\"))\n",
        "count=0\n",
        "while(n>0):\n",
        "    count=count+1\n",
        "    n=n//10\n",
        "print(\"The number of digits in the number are:\",count)"
      ],
      "metadata": {
        "colab": {
          "base_uri": "https://localhost:8080/"
        },
        "id": "dyAhB-Yq9fSe",
        "outputId": "4315aa22-d3ec-487c-8529-986da9ca8f27"
      },
      "execution_count": null,
      "outputs": [
        {
          "output_type": "stream",
          "name": "stdout",
          "text": [
            "Enter number:34579564\n",
            "The number of digits in the number are: 8\n"
          ]
        }
      ]
    },
    {
      "cell_type": "markdown",
      "source": [
        "# 8. Write a Python program to create the multiplication table (from 1 to 10) of a number."
      ],
      "metadata": {
        "id": "JPeF64ID9lAO"
      }
    },
    {
      "cell_type": "code",
      "source": [
        "n = int(input(\"Input a number: \"))\n",
        "\n",
        "# use for loop to iterate 10 times\n",
        "for i in range(1,11):\n",
        "   print(n,'x',i,'=',n*i)"
      ],
      "metadata": {
        "colab": {
          "base_uri": "https://localhost:8080/"
        },
        "id": "_Exb5XWk9mb-",
        "outputId": "ef701b6b-5a31-489f-9249-5d1d8c7877b8"
      },
      "execution_count": null,
      "outputs": [
        {
          "output_type": "stream",
          "name": "stdout",
          "text": [
            "Input a number: 9\n",
            "9 x 1 = 9\n",
            "9 x 2 = 18\n",
            "9 x 3 = 27\n",
            "9 x 4 = 36\n",
            "9 x 5 = 45\n",
            "9 x 6 = 54\n",
            "9 x 7 = 63\n",
            "9 x 8 = 72\n",
            "9 x 9 = 81\n",
            "9 x 10 = 90\n"
          ]
        }
      ]
    },
    {
      "cell_type": "markdown",
      "source": [
        "#9. Reverse the following list using for loop list1 = [10, 20, 30, 40, 50] \n"
      ],
      "metadata": {
        "id": "aPlTCvEF94nO"
      }
    },
    {
      "cell_type": "code",
      "source": [
        "list1 = [10, 20, 30, 40, 50]\n",
        "reversedList=[]\n",
        "for i in range( len(list1) - 1, -1, -1) :\n",
        "    reversedList.append(list1[i])\n",
        "\n",
        "\n",
        "print(reversedList)"
      ],
      "metadata": {
        "colab": {
          "base_uri": "https://localhost:8080/"
        },
        "id": "BRMoKjx297IO",
        "outputId": "3f01392e-5172-4135-b652-d1c0035b9a6e"
      },
      "execution_count": null,
      "outputs": [
        {
          "output_type": "stream",
          "name": "stdout",
          "text": [
            "[50, 40, 30, 20, 10]\n"
          ]
        }
      ]
    },
    {
      "cell_type": "markdown",
      "source": [
        "# 10. Write a Python program to construct the following pattern, using a nested for loop.  (Star pattern)\n",
        "\n",
        "*\n",
        "* * \n",
        "* * * \n",
        "* * * * \n",
        "* * * * * \n",
        "* * * * \n",
        "* * * \n",
        "* * \n",
        "* "
      ],
      "metadata": {
        "id": "eXW2vATs-y-t"
      }
    },
    {
      "cell_type": "code",
      "source": [
        "k=3\n",
        "for i in range(9):\n",
        "    if i<=4:\n",
        "        for j in range(i+1):\n",
        "            print(\" * \",end=\"\")\n",
        "        print(\"\\n\")\n",
        "    elif i>4 :\n",
        "        for j in range(k+1):\n",
        "            print(\" * \",end=\"\")\n",
        "        print(\"\\n\")\n",
        "        k=k-1"
      ],
      "metadata": {
        "colab": {
          "base_uri": "https://localhost:8080/"
        },
        "id": "hqrLglaw_LF6",
        "outputId": "4f22d502-afe9-43e3-8594-98278148ddc1"
      },
      "execution_count": null,
      "outputs": [
        {
          "output_type": "stream",
          "name": "stdout",
          "text": [
            " * \n",
            "\n",
            " *  * \n",
            "\n",
            " *  *  * \n",
            "\n",
            " *  *  *  * \n",
            "\n",
            " *  *  *  *  * \n",
            "\n",
            " *  *  *  * \n",
            "\n",
            " *  *  * \n",
            "\n",
            " *  * \n",
            "\n",
            " * \n",
            "\n"
          ]
        }
      ]
    },
    {
      "cell_type": "markdown",
      "source": [
        "# 11. Write a Python program that accepts a string and calculate the number of digits and letters. "
      ],
      "metadata": {
        "id": "U5ZyIIL1A5m1"
      }
    },
    {
      "cell_type": "code",
      "source": [
        "s = input(\"Input a string :: \")\n",
        "d=l=0\n",
        "for c in s:\n",
        "    if c.isdigit():\n",
        "        d=d+1\n",
        "    elif c.isalpha():\n",
        "        l=l+1\n",
        "    else:\n",
        "        pass\n",
        "\n",
        "print(\"Digits\", d)\n",
        "print(\"Letters\", l)"
      ],
      "metadata": {
        "colab": {
          "base_uri": "https://localhost:8080/"
        },
        "id": "eYT2sJXNA8k2",
        "outputId": "42f3a526-76cb-4f89-e0a5-c471c9065ec3"
      },
      "execution_count": null,
      "outputs": [
        {
          "output_type": "stream",
          "name": "stdout",
          "text": [
            "Input a string ::  Hai Welcome 1343943\n",
            "Digits 7\n",
            "Letters 10\n"
          ]
        }
      ]
    },
    {
      "cell_type": "markdown",
      "source": [
        "# 12. From a list containing ints, strings and floats, make three lists to store them separately.\n"
      ],
      "metadata": {
        "id": "Pyh2xnulBQE6"
      }
    },
    {
      "cell_type": "code",
      "source": [
        "w=[2, 3.0,4.3,\"hello world\", 5, 4.3]\n",
        "x=[]\n",
        "y=[]\n",
        "z=[]\n",
        "\n",
        "for i in w:\n",
        "    if type(i)==int:\n",
        "        x.append(i)\n",
        "    elif type(i)==float:\n",
        "        y.append(i)\n",
        "    elif type(i)==str:\n",
        "        z.append(i)\n",
        "\n",
        "print(\"Integer List :: \",x)\n",
        "print(\"String List  :: \",z)\n",
        "print(\"Float List   :: \",y)\n"
      ],
      "metadata": {
        "colab": {
          "base_uri": "https://localhost:8080/"
        },
        "id": "wFCe_82jBSkv",
        "outputId": "8b2f6c20-7195-4520-bb20-6f1cf38b61d4"
      },
      "execution_count": null,
      "outputs": [
        {
          "output_type": "stream",
          "name": "stdout",
          "text": [
            "Integer List ::  [2, 5]\n",
            "String List  ::  ['hello world']\n",
            "Float List   ::  [3.0, 4.3, 4.3]\n"
          ]
        }
      ]
    }
  ]
}