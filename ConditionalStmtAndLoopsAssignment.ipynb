{
  "nbformat": 4,
  "nbformat_minor": 0,
  "metadata": {
    "colab": {
      "provenance": [],
      "toc_visible": true,
      "authorship_tag": "ABX9TyNfgnp27/XoI92UkJBNuSS2",
      "include_colab_link": true
    },
    "kernelspec": {
      "name": "python3",
      "display_name": "Python 3"
    },
    "language_info": {
      "name": "python"
    }
  },
  "cells": [
    {
      "cell_type": "markdown",
      "metadata": {
        "id": "view-in-github",
        "colab_type": "text"
      },
      "source": [
        "<a href=\"https://colab.research.google.com/github/HemavathiRamamoorthy/Python/blob/main/ConditionalStmtAndLoopsAssignment.ipynb\" target=\"_parent\"><img src=\"https://colab.research.google.com/assets/colab-badge.svg\" alt=\"Open In Colab\"/></a>"
      ]
    },
    {
      "cell_type": "markdown",
      "source": [
        "**Conditional Statement Assignment**"
      ],
      "metadata": {
        "id": "7PCE8F7LDUsi"
      }
    },
    {
      "cell_type": "markdown",
      "source": [
        "# 1. Take two integer values from the user and print greatest among them. \n"
      ],
      "metadata": {
        "id": "F6JDO8Z3DOTi"
      }
    },
    {
      "cell_type": "code",
      "source": [
        "num1 = int(input(\"Enter first number: \"))      \n",
        "num2 = int(input(\"Enter second number: \")) \n",
        "greatest = num1 if num1>num2 else num2\n",
        "print(greatest)"
      ],
      "metadata": {
        "colab": {
          "base_uri": "https://localhost:8080/"
        },
        "id": "iFo-1PIIDmnk",
        "outputId": "ea1be433-3aaf-4594-950a-2b950fc7ad2e"
      },
      "execution_count": null,
      "outputs": [
        {
          "output_type": "stream",
          "name": "stdout",
          "text": [
            "Enter first number: 10\n",
            "Enter second number: 20\n",
            "20\n"
          ]
        }
      ]
    },
    {
      "cell_type": "markdown",
      "source": [
        "# 2. Write a program that reads an integer from the user. Then your program should display a message indicating whether the integer is even or odd."
      ],
      "metadata": {
        "id": "Emo0_mUqDKW2"
      }
    },
    {
      "cell_type": "code",
      "source": [
        "num = int(input(\"Enter a number: \"))\n",
        "oddOrEven = \"Even\" if num%2==0 else \"Odd\"\n",
        "print(\"The given number is \",oddOrEven)"
      ],
      "metadata": {
        "colab": {
          "base_uri": "https://localhost:8080/"
        },
        "id": "0Vb0Z1gBENDC",
        "outputId": "dc1e7317-9c41-4c8b-e4a1-e8c1adba2d8e"
      },
      "execution_count": null,
      "outputs": [
        {
          "output_type": "stream",
          "name": "stdout",
          "text": [
            "Enter a number: 545\n",
            "The given number is  Odd\n"
          ]
        }
      ]
    },
    {
      "cell_type": "markdown",
      "source": [
        "# 3. Create a program that reads a letter of the alphabet from the user. If the user enters a, e, i, o or u then your program should display a message indicating that the entered letter is a vowel. If the user enters y then your program should display a message indicating that sometimes y is a vowel, and sometimes y is a consonant. Otherwise your program should display a message indicating that the letter is a consonant."
      ],
      "metadata": {
        "id": "DmEfwC7TDNCN"
      }
    },
    {
      "cell_type": "code",
      "source": [
        "l = input(\"Enter a letter: \")\n",
        "\n",
        "if l in ('a', 'e', 'i', 'o', 'u'):\n",
        "\tprint(\"%s is a vowel.\" % l)\n",
        "elif l == 'y':\n",
        "\tprint(\"Sometimes y is a vowel, sometimes y is a consonant.\")\n",
        "else:\n",
        "\tprint(\"%s is a consonant.\" % l) "
      ],
      "metadata": {
        "colab": {
          "base_uri": "https://localhost:8080/"
        },
        "id": "t43IVz8hErXF",
        "outputId": "de27c258-b803-47c2-9173-951db45474cf"
      },
      "execution_count": null,
      "outputs": [
        {
          "output_type": "stream",
          "name": "stdout",
          "text": [
            "Enter a letter: y\n",
            "Sometimes y is a vowel, sometimes y is a consonant.\n"
          ]
        }
      ]
    },
    {
      "cell_type": "markdown",
      "source": [
        "# 4. A triangle can be classified based on the lengths of its sides as equilateral, isosceles or scalene. All three sides of an equilateral triangle have the same length. An isosceles triangle has two sides that are the same length, and a third side that is a different length. If all of the sides have different lengths then the triangle is scalene. Write a program that reads the lengths of the three sides of a triangle from the user. Then display a message that states the triangle’s type."
      ],
      "metadata": {
        "id": "0uU_-sBZDN3U"
      }
    },
    {
      "cell_type": "code",
      "source": [
        "print(\"Input lengths of the triangle sides: \")\n",
        "x = int(input(\"x: \"))\n",
        "y = int(input(\"y: \"))\n",
        "z = int(input(\"z: \"))\n",
        "\n",
        "if x == y == z:\n",
        "\tprint(\"Equilateral triangle\")\n",
        "elif x==y or y==z or z==x:\n",
        "\tprint(\"isosceles triangle\")\n",
        "else:\n",
        "\tprint(\"Scalene triangle\")"
      ],
      "metadata": {
        "colab": {
          "base_uri": "https://localhost:8080/"
        },
        "id": "t8p3vHb2FfDC",
        "outputId": "53acf115-4133-46a2-82a2-7e9c3d6de11f"
      },
      "execution_count": null,
      "outputs": [
        {
          "output_type": "stream",
          "name": "stdout",
          "text": [
            "Input lengths of the triangle sides: \n",
            "x: 3\n",
            "y: 4\n",
            "z: 5\n",
            "Scalene triangle\n"
          ]
        }
      ]
    },
    {
      "cell_type": "markdown",
      "source": [
        "# 5. Write a program that determines the name of a shape from its number of sides. Read the number of sides from the user and then report the appropriate name as part of a meaningful message. Your program should support shapes with anywhere from 3 up to (and including) 10 sides. If a number of sides outside of this range is entered then your program should display an appropriate error message. "
      ],
      "metadata": {
        "id": "8_eCXDzPDO4T"
      }
    },
    {
      "cell_type": "code",
      "source": [
        "def shape(i):\n",
        "  switcher={\n",
        "                0:'No shape with 0 side',\n",
        "                1:'No shape with one side',\n",
        "                2:'No shape with two side',\n",
        "                3:'Triangle',\n",
        "                4:'Square',\n",
        "                5:'Pentagon',\n",
        "                6:'Hexagon',\n",
        "                7:'Heptagon',\n",
        "                8:'Octagon',\n",
        "                9:'Nonagon',\n",
        "                10:'Decagon'\n",
        "             }\n",
        "  return switcher.get(i,'Invalid number of sides')"
      ],
      "metadata": {
        "id": "WLNORTi5FoAY"
      },
      "execution_count": null,
      "outputs": []
    },
    {
      "cell_type": "code",
      "source": [
        "i = int(input(\"Enter number of sides: \"))\n",
        "print(shape(i))"
      ],
      "metadata": {
        "colab": {
          "base_uri": "https://localhost:8080/"
        },
        "id": "pKGOFSK3Il9J",
        "outputId": "392f4f5f-9da4-4bbb-89ed-3b505e8fb5c7"
      },
      "execution_count": null,
      "outputs": [
        {
          "output_type": "stream",
          "name": "stdout",
          "text": [
            "Enter number of sides: 8\n",
            "Octagon\n"
          ]
        }
      ]
    },
    {
      "cell_type": "markdown",
      "source": [
        "# 6. A shop will give a discount of 10% if the cost of the purchased quantity is more than 1000. Ask the user for quantity, suppose, one unit will cost 100. Judge and print total cost for user. \n"
      ],
      "metadata": {
        "id": "cwmjt22GDPYK"
      }
    },
    {
      "cell_type": "code",
      "source": [
        "quantity = int(input(\"Enter quantity: \"))\n",
        "if (quantity*100)>1000:\n",
        "  print (\"Cost is\",(quantity*100)-(.1*quantity*100))\n",
        "else:\n",
        "    print (\"Cost is\",quantity*100)"
      ],
      "metadata": {
        "colab": {
          "base_uri": "https://localhost:8080/"
        },
        "id": "YBsoTnViJZah",
        "outputId": "a8d107b7-7379-48a5-cfc8-7e37490bc934"
      },
      "execution_count": null,
      "outputs": [
        {
          "output_type": "stream",
          "name": "stdout",
          "text": [
            "Enter quantity: 9\n",
            "Cost is 900\n"
          ]
        }
      ]
    },
    {
      "cell_type": "markdown",
      "source": [
        "#7. Take input of age of 3 people by user and determine oldest and youngest among them. \n"
      ],
      "metadata": {
        "id": "y_sunHECDQ_j"
      }
    },
    {
      "cell_type": "code",
      "source": [
        "age1=int(input('Enter age of  Person1: '))\n",
        "age2=int(input('Enter age of  Person2: '))\n",
        "age3=int(input('Enter age of  Person2: '))\n",
        "if age1>age2 and age1>age3:\n",
        "    print('Person1 is oldest')\n",
        "elif age2>age1 and age2>age3:\n",
        "    print('Person2 is oldest')\n",
        "else:\n",
        "    print('Person3 is oldest')\n",
        "if age1<age2 and age1<age3:\n",
        "    print('Person1 is youngest')\n",
        "elif age2<age1 and age2<age3:\n",
        "    print('Person2 is youngest')\n",
        "else:\n",
        "     print('Person3 is youngest')"
      ],
      "metadata": {
        "colab": {
          "base_uri": "https://localhost:8080/"
        },
        "id": "abJO8q-SMh2I",
        "outputId": "1c4be0a3-09fe-4554-8134-33f19d74dff7"
      },
      "execution_count": null,
      "outputs": [
        {
          "output_type": "stream",
          "name": "stdout",
          "text": [
            "Enter age of  Person1: 44\n",
            "Enter age of  Person2: 90\n",
            "Enter age of  Person2: 33\n",
            "Person2 is oldest\n",
            "Person3 is youngest\n"
          ]
        }
      ]
    },
    {
      "cell_type": "markdown",
      "source": [
        "# 8. A company decided to give a bonus of 5% to an employee if his/her year of service is more than 5 years. Ask user for their salary and year of service and print the net bonus amount."
      ],
      "metadata": {
        "id": "ol4e65v_DRm9"
      }
    },
    {
      "cell_type": "code",
      "source": [
        "salary = int(input(\"Enter your salary:\"))\n",
        "service_yrs = int(input(\"Enter Years of service:\"))\n",
        "if service_yrs > 5:\n",
        "    print(\"Yours salary+Bonus = \",salary + (salary)*5/100)\n",
        "else:\n",
        "     print(\"You are not eligible for bonus as you have less service years.\")"
      ],
      "metadata": {
        "colab": {
          "base_uri": "https://localhost:8080/"
        },
        "id": "5n5q7ltdNEcw",
        "outputId": "88b87aa8-bff5-4890-c857-80555535455e"
      },
      "execution_count": null,
      "outputs": [
        {
          "output_type": "stream",
          "name": "stdout",
          "text": [
            "Enter your salary:10000\n",
            "Enter Years of service:8\n",
            "Yours salary+Bonus =  10500.0\n"
          ]
        }
      ]
    },
    {
      "cell_type": "markdown",
      "source": [
        "# 9. Write a program to check if a year is leap year or not. If a year is divisible by 4 then it is leap year but if the year is a century year like 2000, 1900, 2100 then it must be divisible by 400."
      ],
      "metadata": {
        "id": "qx-aEEDKDSSs"
      }
    },
    {
      "cell_type": "code",
      "source": [
        "yr = int(input(\"Enter a year :: \"))\n",
        "if((yr%4==0 and yr%100!=0) or (yr%400==0)):\n",
        "  print(yr,' is leap year')\n",
        "else:\n",
        "  print(yr,' is not a leap year')"
      ],
      "metadata": {
        "colab": {
          "base_uri": "https://localhost:8080/"
        },
        "id": "hrgJ68bxNkjW",
        "outputId": "2162a244-51a8-43cc-ebf4-50f9102d538d"
      },
      "execution_count": null,
      "outputs": [
        {
          "output_type": "stream",
          "name": "stdout",
          "text": [
            "Enter a year :: 2100\n",
            "2100  is not a leap year\n"
          ]
        }
      ]
    },
    {
      "cell_type": "markdown",
      "source": [
        "# 10. Accept d1 and d2 as input. First, check to see that they are in the proper range for dice. If not, print a message. Otherwise, determine the outcome if this is the come out roll. If the sum is 7 or 11, print the winner. If the sum is 2, 3 or 12, print loser. Otherwise print the point."
      ],
      "metadata": {
        "id": "-a_-KAN4DS3T"
      }
    },
    {
      "cell_type": "code",
      "source": [
        "d1=int(input(\"Enter d1 :: \"))\n",
        "d2=int(input(\"Enter d2 :: \"))\n",
        "if(d1>=1 and d1<=6 and d2>=1 and d2<=6):\n",
        "  sum=d1+d2\n",
        "  if(sum==7 or sum==11):\n",
        "    print(\"Winner\")\n",
        "  elif(sum==2 or sum==3 or sum==12):\n",
        "    print(\"Loser\")\n",
        "  else:\n",
        "    print(sum)\n",
        "else:\n",
        "    print(\"Invalid input\")\n"
      ],
      "metadata": {
        "colab": {
          "base_uri": "https://localhost:8080/"
        },
        "id": "MCPxvbEXP1dl",
        "outputId": "7f806553-92f9-479a-8f59-a411fffef18d"
      },
      "execution_count": null,
      "outputs": [
        {
          "output_type": "stream",
          "name": "stdout",
          "text": [
            "Enter d1 :: 3\n",
            "Enter d2 :: 4\n",
            "Winner\n"
          ]
        }
      ]
    },
    {
      "cell_type": "markdown",
      "source": [
        "# 11. Write a python program to display the number of days in a month name from the given list of months or month number entered by user. "
      ],
      "metadata": {
        "id": "N6Z5hp1YDTRK"
      }
    },
    {
      "cell_type": "code",
      "source": [
        "print(\"List of months: January, February, March, April, May, June, July, August, September, October, November, December\")\n",
        "month_name = input(\"Enter a Month name: \")\n",
        "\n",
        "if month_name == \"February\":\n",
        "\tprint(\"No. of days: 28/29 days\")\n",
        "elif month_name in (\"April\", \"June\", \"September\", \"November\"):\n",
        "\tprint(\"No. of days: 30 days\")\n",
        "elif month_name in (\"January\", \"March\", \"May\", \"July\", \"August\", \"October\", \"December\"):\n",
        "\tprint(\"No. of days: 31 day\")\n",
        "else:\n",
        "\tprint(\"Wrong month name\") \n",
        "\t"
      ],
      "metadata": {
        "colab": {
          "base_uri": "https://localhost:8080/"
        },
        "id": "EQpNJFTQSqaT",
        "outputId": "69636989-a187-4a38-d88a-3f47aa03df00"
      },
      "execution_count": null,
      "outputs": [
        {
          "output_type": "stream",
          "name": "stdout",
          "text": [
            "List of months: January, February, March, April, May, June, July, August, September, October, November, December\n",
            "Enter a Month name: August\n",
            "No. of days: 31 day\n"
          ]
        }
      ]
    },
    {
      "cell_type": "markdown",
      "source": [
        "# 12. Write a Python program to get next day of a given date."
      ],
      "metadata": {
        "id": "1_llQ5s-DT_C"
      }
    },
    {
      "cell_type": "code",
      "source": [
        "date=str(input(\"Enter date in dd mm yyyy format :: \"))\n",
        "day, month, year = (int(i) for i in date.split(' '))   \n",
        "if (year % 400 == 0):\n",
        "    leap_year = True\n",
        "elif (year % 100 == 0):\n",
        "    leap_year = False\n",
        "elif (year % 4 == 0):\n",
        "    leap_year = True\n",
        "else:\n",
        "    leap_year = False\n",
        "\n",
        "if month in (1, 3, 5, 7, 8, 10, 12):\n",
        "    month_length = 31\n",
        "elif month == 2:\n",
        "    if leap_year:\n",
        "        month_length = 29\n",
        "    else:\n",
        "        month_length = 28\n",
        "else:\n",
        "    month_length = 30\n",
        "\n",
        "if day < month_length:\n",
        "    day += 1\n",
        "else:\n",
        "    day = 1\n",
        "    if month == 12:\n",
        "        month = 1\n",
        "        year += 1\n",
        "    else:\n",
        "        month += 1\n",
        "print(\"The next date is [dd-mm-yyyy] %d-%d-%d.\" % (day,month,year))"
      ],
      "metadata": {
        "colab": {
          "base_uri": "https://localhost:8080/"
        },
        "id": "jnTpnmA3T2wE",
        "outputId": "53d435f4-6437-4fc2-aeea-4a83cb0cce0e"
      },
      "execution_count": null,
      "outputs": [
        {
          "output_type": "stream",
          "name": "stdout",
          "text": [
            "Enter date in dd mm yyyy format :: 31 12 2020\n",
            "The next date is [dd-mm-yyyy] 1-1-2021.\n"
          ]
        }
      ]
    },
    {
      "cell_type": "markdown",
      "source": [
        " **Loops Assignment:**"
      ],
      "metadata": {
        "id": "ZOhoOO8OC_o7"
      }
    },
    {
      "cell_type": "markdown",
      "source": [
        "# 1. Print First 10 natural numbers using while loop"
      ],
      "metadata": {
        "id": "snAK9Vl44uwg"
      }
    },
    {
      "cell_type": "code",
      "source": [
        "i = 1\n",
        "while(i<=10):\n",
        "    print(i)\n",
        "    i += 1"
      ],
      "metadata": {
        "colab": {
          "base_uri": "https://localhost:8080/"
        },
        "id": "tXWv6I6h4yC5",
        "outputId": "0dccec23-39f8-4061-adbe-a415310cf1c2"
      },
      "execution_count": null,
      "outputs": [
        {
          "output_type": "stream",
          "name": "stdout",
          "text": [
            "1\n",
            "2\n",
            "3\n",
            "4\n",
            "5\n",
            "6\n",
            "7\n",
            "8\n",
            "9\n",
            "10\n"
          ]
        }
      ]
    },
    {
      "cell_type": "markdown",
      "source": [
        "# 2. Display -10 to -1 using for loop \n"
      ],
      "metadata": {
        "id": "1zrxdUqE5G6c"
      }
    },
    {
      "cell_type": "code",
      "source": [
        "for i in range(-10, 0):\n",
        "    print(i)"
      ],
      "metadata": {
        "colab": {
          "base_uri": "https://localhost:8080/"
        },
        "id": "ZrjdCqHY5IeC",
        "outputId": "80285d3d-cf9c-4149-fea2-196ea5003a64"
      },
      "execution_count": null,
      "outputs": [
        {
          "output_type": "stream",
          "name": "stdout",
          "text": [
            "-10\n",
            "-9\n",
            "-8\n",
            "-7\n",
            "-6\n",
            "-5\n",
            "-4\n",
            "-3\n",
            "-2\n",
            "-1\n"
          ]
        }
      ]
    },
    {
      "cell_type": "markdown",
      "source": [
        "# 3. Write a python program to print the factorial of a given number "
      ],
      "metadata": {
        "id": "PGbL6G-U5sOD"
      }
    },
    {
      "cell_type": "code",
      "source": [
        "def factorial(n):\n",
        "     \n",
        "    return 1 if (n==1 or n==0) else n * factorial(n - 1);\n",
        " \n",
        "\n",
        "num = 5;\n",
        "print(\"Factorial of\",num,\"is\",factorial(num))"
      ],
      "metadata": {
        "colab": {
          "base_uri": "https://localhost:8080/"
        },
        "id": "CKjoYPfk5_0D",
        "outputId": "16ad88f1-2c84-488d-8e93-a5eb8e56b55a"
      },
      "execution_count": null,
      "outputs": [
        {
          "output_type": "stream",
          "name": "stdout",
          "text": [
            "Factorial of 5 is 120\n"
          ]
        }
      ]
    },
    {
      "cell_type": "markdown",
      "source": [
        "# 4. Write a python program to print all prime numbers between 0 to 100 , and print how many prime numbers are there. \n"
      ],
      "metadata": {
        "id": "994yRwr16GVP"
      }
    },
    {
      "cell_type": "code",
      "source": [
        "primeList=[]\n",
        "for num in range(0, 101):\n",
        "   # all prime numbers are greater than 1\n",
        "   if num > 1:\n",
        "       for i in range(2, num):\n",
        "           if (num % i) == 0:\n",
        "               break\n",
        "       else:\n",
        "          # print(num)\n",
        "           primeList.append(num)\n",
        "\n",
        "\n",
        "          \n",
        "print('Prime numbers in between 0 to 100 are \\n',primeList)\n",
        "print('Number of prime numbers are ',len(primeList))"
      ],
      "metadata": {
        "colab": {
          "base_uri": "https://localhost:8080/"
        },
        "id": "eTXxhJ796IBn",
        "outputId": "25b3d90e-e6b1-4c63-b781-660d33d68f84"
      },
      "execution_count": null,
      "outputs": [
        {
          "output_type": "stream",
          "name": "stdout",
          "text": [
            "Prime numbers in between 0 to 100 are \n",
            " [2, 3, 5, 7, 11, 13, 17, 19, 23, 29, 31, 37, 41, 43, 47, 53, 59, 61, 67, 71, 73, 79, 83, 89, 97]\n",
            "Number of prime numbers are  25\n"
          ]
        }
      ]
    },
    {
      "cell_type": "markdown",
      "source": [
        "# 5. Print the following pattern : \n",
        "1 \n",
        "1 2 \n",
        "1 2 3 \n",
        "1 2 3 4 \n",
        "1 2 3 4 5 "
      ],
      "metadata": {
        "id": "U0m-Y-yr7zwx"
      }
    },
    {
      "cell_type": "code",
      "source": [
        "def numpat(n):\n",
        "    num = 1\n",
        "    for i in range(0, n):\n",
        "        num = 1\n",
        "        for j in range(0, i+1):\n",
        "            print(num, end=\" \")\n",
        "            num = num + 1\n",
        "     \n",
        "        print(\"\\r\")\n",
        " \n",
        "n = 5\n",
        "numpat(n)"
      ],
      "metadata": {
        "colab": {
          "base_uri": "https://localhost:8080/"
        },
        "id": "q3EI1xzh8PZw",
        "outputId": "0b8479b9-aa00-48f6-e4ab-f992efe1631e"
      },
      "execution_count": null,
      "outputs": [
        {
          "output_type": "stream",
          "name": "stdout",
          "text": [
            "1 \r\n",
            "1 2 \r\n",
            "1 2 3 \r\n",
            "1 2 3 4 \r\n",
            "1 2 3 4 5 \r\n"
          ]
        }
      ]
    },
    {
      "cell_type": "markdown",
      "source": [
        "# 6. Accept n number from user and calculate the sum of all number between 1 and n including n \n"
      ],
      "metadata": {
        "id": "PhRJksRi8lrP"
      }
    },
    {
      "cell_type": "code",
      "source": [
        "n = int(input(\"Enter number ::  \"))\n",
        "sum = 0\n",
        "for num in range(1, n + 1, 1):\n",
        "    sum = sum + num\n",
        "print(\"Sum of numbers is: \", sum)"
      ],
      "metadata": {
        "colab": {
          "base_uri": "https://localhost:8080/"
        },
        "id": "i24JsOlX88cQ",
        "outputId": "735cb9e8-6d8c-4bc2-c323-9d892a35d75b"
      },
      "execution_count": null,
      "outputs": [
        {
          "output_type": "stream",
          "name": "stdout",
          "text": [
            "Enter number ::  5\n",
            "Sum of numbers is:  15\n"
          ]
        }
      ]
    },
    {
      "cell_type": "markdown",
      "source": [
        "#7. Given a number count the total number of digits in a number. \n"
      ],
      "metadata": {
        "id": "xYmM0_Qw9Ndm"
      }
    },
    {
      "cell_type": "code",
      "source": [
        "n=int(input(\"Enter number:\"))\n",
        "count=0\n",
        "while(n>0):\n",
        "    count=count+1\n",
        "    n=n//10\n",
        "print(\"The number of digits in the number are:\",count)"
      ],
      "metadata": {
        "colab": {
          "base_uri": "https://localhost:8080/"
        },
        "id": "dyAhB-Yq9fSe",
        "outputId": "4315aa22-d3ec-487c-8529-986da9ca8f27"
      },
      "execution_count": null,
      "outputs": [
        {
          "output_type": "stream",
          "name": "stdout",
          "text": [
            "Enter number:34579564\n",
            "The number of digits in the number are: 8\n"
          ]
        }
      ]
    },
    {
      "cell_type": "markdown",
      "source": [
        "# 8. Write a Python program to create the multiplication table (from 1 to 10) of a number."
      ],
      "metadata": {
        "id": "JPeF64ID9lAO"
      }
    },
    {
      "cell_type": "code",
      "source": [
        "n = int(input(\"Input a number: \"))\n",
        "\n",
        "# use for loop to iterate 10 times\n",
        "for i in range(1,11):\n",
        "   print(n,'x',i,'=',n*i)"
      ],
      "metadata": {
        "colab": {
          "base_uri": "https://localhost:8080/"
        },
        "id": "_Exb5XWk9mb-",
        "outputId": "ef701b6b-5a31-489f-9249-5d1d8c7877b8"
      },
      "execution_count": null,
      "outputs": [
        {
          "output_type": "stream",
          "name": "stdout",
          "text": [
            "Input a number: 9\n",
            "9 x 1 = 9\n",
            "9 x 2 = 18\n",
            "9 x 3 = 27\n",
            "9 x 4 = 36\n",
            "9 x 5 = 45\n",
            "9 x 6 = 54\n",
            "9 x 7 = 63\n",
            "9 x 8 = 72\n",
            "9 x 9 = 81\n",
            "9 x 10 = 90\n"
          ]
        }
      ]
    },
    {
      "cell_type": "markdown",
      "source": [
        "#9. Reverse the following list using for loop list1 = [10, 20, 30, 40, 50] \n"
      ],
      "metadata": {
        "id": "aPlTCvEF94nO"
      }
    },
    {
      "cell_type": "code",
      "source": [
        "list1 = [10, 20, 30, 40, 50]\n",
        "reversedList=[]\n",
        "for i in range( len(list1) - 1, -1, -1) :\n",
        "    reversedList.append(list1[i])\n",
        "\n",
        "\n",
        "print(reversedList)"
      ],
      "metadata": {
        "colab": {
          "base_uri": "https://localhost:8080/"
        },
        "id": "BRMoKjx297IO",
        "outputId": "3f01392e-5172-4135-b652-d1c0035b9a6e"
      },
      "execution_count": null,
      "outputs": [
        {
          "output_type": "stream",
          "name": "stdout",
          "text": [
            "[50, 40, 30, 20, 10]\n"
          ]
        }
      ]
    },
    {
      "cell_type": "markdown",
      "source": [
        "# 10. Write a Python program to construct the following pattern, using a nested for loop.  (Star pattern)\n",
        "\n",
        "*\n",
        "* * \n",
        "* * * \n",
        "* * * * \n",
        "* * * * * \n",
        "* * * * \n",
        "* * * \n",
        "* * \n",
        "* "
      ],
      "metadata": {
        "id": "eXW2vATs-y-t"
      }
    },
    {
      "cell_type": "code",
      "source": [
        "k=3\n",
        "for i in range(9):\n",
        "    if i<=4:\n",
        "        for j in range(i+1):\n",
        "            print(\" * \",end=\"\")\n",
        "        print(\"\\n\")\n",
        "    elif i>4 :\n",
        "        for j in range(k+1):\n",
        "            print(\" * \",end=\"\")\n",
        "        print(\"\\n\")\n",
        "        k=k-1"
      ],
      "metadata": {
        "colab": {
          "base_uri": "https://localhost:8080/"
        },
        "id": "hqrLglaw_LF6",
        "outputId": "4f22d502-afe9-43e3-8594-98278148ddc1"
      },
      "execution_count": null,
      "outputs": [
        {
          "output_type": "stream",
          "name": "stdout",
          "text": [
            " * \n",
            "\n",
            " *  * \n",
            "\n",
            " *  *  * \n",
            "\n",
            " *  *  *  * \n",
            "\n",
            " *  *  *  *  * \n",
            "\n",
            " *  *  *  * \n",
            "\n",
            " *  *  * \n",
            "\n",
            " *  * \n",
            "\n",
            " * \n",
            "\n"
          ]
        }
      ]
    },
    {
      "cell_type": "markdown",
      "source": [
        "# 11. Write a Python program that accepts a string and calculate the number of digits and letters. "
      ],
      "metadata": {
        "id": "U5ZyIIL1A5m1"
      }
    },
    {
      "cell_type": "code",
      "source": [
        "s = input(\"Input a string :: \")\n",
        "d=l=0\n",
        "for c in s:\n",
        "    if c.isdigit():\n",
        "        d=d+1\n",
        "    elif c.isalpha():\n",
        "        l=l+1\n",
        "    else:\n",
        "        pass\n",
        "\n",
        "print(\"Digits\", d)\n",
        "print(\"Letters\", l)"
      ],
      "metadata": {
        "colab": {
          "base_uri": "https://localhost:8080/"
        },
        "id": "eYT2sJXNA8k2",
        "outputId": "42f3a526-76cb-4f89-e0a5-c471c9065ec3"
      },
      "execution_count": null,
      "outputs": [
        {
          "output_type": "stream",
          "name": "stdout",
          "text": [
            "Input a string ::  Hai Welcome 1343943\n",
            "Digits 7\n",
            "Letters 10\n"
          ]
        }
      ]
    },
    {
      "cell_type": "markdown",
      "source": [
        "# 12. From a list containing ints, strings and floats, make three lists to store them separately.\n"
      ],
      "metadata": {
        "id": "Pyh2xnulBQE6"
      }
    },
    {
      "cell_type": "code",
      "source": [
        "w=[2, 3.0,4.3,\"hello world\", 5, 4.3]\n",
        "x=[]\n",
        "y=[]\n",
        "z=[]\n",
        "\n",
        "for i in w:\n",
        "    if type(i)==int:\n",
        "        x.append(i)\n",
        "    elif type(i)==float:\n",
        "        y.append(i)\n",
        "    elif type(i)==str:\n",
        "        z.append(i)\n",
        "\n",
        "print(\"Integer List :: \",x)\n",
        "print(\"String List  :: \",z)\n",
        "print(\"Float List   :: \",y)\n"
      ],
      "metadata": {
        "colab": {
          "base_uri": "https://localhost:8080/"
        },
        "id": "wFCe_82jBSkv",
        "outputId": "8b2f6c20-7195-4520-bb20-6f1cf38b61d4"
      },
      "execution_count": null,
      "outputs": [
        {
          "output_type": "stream",
          "name": "stdout",
          "text": [
            "Integer List ::  [2, 5]\n",
            "String List  ::  ['hello world']\n",
            "Float List   ::  [3.0, 4.3, 4.3]\n"
          ]
        }
      ]
    }
  ]
}