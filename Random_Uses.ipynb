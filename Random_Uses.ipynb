{
  "nbformat": 4,
  "nbformat_minor": 0,
  "metadata": {
    "colab": {
      "provenance": [],
      "mount_file_id": "1wPVQEDcjmTy2kK8RbZxqeHxjHr7tuhcW",
      "authorship_tag": "ABX9TyPtnqovvTu3+EEx0Wqdd34l",
      "include_colab_link": true
    },
    "kernelspec": {
      "name": "python3",
      "display_name": "Python 3"
    },
    "language_info": {
      "name": "python"
    }
  },
  "cells": [
    {
      "cell_type": "markdown",
      "metadata": {
        "id": "view-in-github",
        "colab_type": "text"
      },
      "source": [
        "<a href=\"https://colab.research.google.com/github/HemavathiRamamoorthy/Python/blob/main/Random_Uses.ipynb\" target=\"_parent\"><img src=\"https://colab.research.google.com/assets/colab-badge.svg\" alt=\"Open In Colab\"/></a>"
      ]
    },
    {
      "cell_type": "markdown",
      "source": [
        "Generate story with some combination"
      ],
      "metadata": {
        "id": "t8M-xAap1XpI"
      }
    },
    {
      "cell_type": "code",
      "execution_count": 3,
      "metadata": {
        "colab": {
          "base_uri": "https://localhost:8080/"
        },
        "id": "ek47wWIE02sH",
        "outputId": "bf434634-c200-44a9-f483-0626eb22d1c3"
      },
      "outputs": [
        {
          "output_type": "stream",
          "name": "stdout",
          "text": [
            "Once upon a time, in a faraway land, there was a child named Leo. One day, Leo needed help with a difficult task. Feeling sad and helpless, Leo made a new friend. In the end, Hard work and perseverance can help you overcome any challenge.\n"
          ]
        }
      ],
      "source": [
        "import random\n",
        "\n",
        "def generate_story():\n",
        "    characters = [\"Lily\", \"Max\", \"Ruby\", \"Leo\", \"Olivia\"]\n",
        "    settings = [\"a magical forest\", \"a cozy village\", \"a faraway land\", \"a beautiful castle\"]\n",
        "    problems = [\"lost her way home\", \"forgot her favorite toy\", \"needed help with a difficult task\"]\n",
        "    actions = [\"met a wise owl\", \"found a hidden treasure\", \"made a new friend\"]\n",
        "\n",
        "    # Generate random elements for the story\n",
        "    main_character = random.choice(characters)\n",
        "    setting = random.choice(settings)\n",
        "    problem = random.choice(problems)\n",
        "    action = random.choice(actions)\n",
        "\n",
        "    # Construct the story\n",
        "    story = f\"Once upon a time, in {setting}, there was a child named {main_character}. One day, {main_character} {problem}. \"\n",
        "    story += f\"Feeling sad and helpless, {main_character} {action}. \"\n",
        "\n",
        "    # Generate a random moral for the story\n",
        "    morals = [\n",
        "        \"Always be kind to others, and they will be kind to you.\",\n",
        "        \"Hard work and perseverance can help you overcome any challenge.\",\n",
        "        \"Never judge someone by their appearance; true beauty comes from within.\",\n",
        "        \"Sharing is caring; it brings joy to both the giver and the receiver.\",\n",
        "        \"Believe in yourself, and you can achieve anything you set your mind to.\"\n",
        "    ]\n",
        "    moral = random.choice(morals)\n",
        "\n",
        "    # Add the moral to the end of the story\n",
        "    story += f\"In the end, {moral}\"\n",
        "\n",
        "    return story\n",
        "\n",
        "# Generate and print a children's story\n",
        "story = generate_story()\n",
        "print(story)\n"
      ]
    },
    {
      "cell_type": "markdown",
      "source": [
        "Top 10 google URL"
      ],
      "metadata": {
        "id": "UtrxCDeC1ml0"
      }
    },
    {
      "cell_type": "code",
      "source": [
        "import requests\n",
        "from bs4 import BeautifulSoup\n",
        "\n",
        "def get_google_urls(keyword, num_results):\n",
        "    url = f\"https://www.google.com/search?q={keyword}&num={num_results}\"\n",
        "    headers = {\n",
        "        \"User-Agent\": \"Mozilla/5.0 (Windows NT 10.0; Win64; x64) AppleWebKit/537.36 (KHTML, like Gecko) Chrome/94.0.4606.81 Safari/537.36\"\n",
        "    }\n",
        "\n",
        "    response = requests.get(url, headers=headers)\n",
        "    response.raise_for_status()\n",
        "\n",
        "    soup = BeautifulSoup(response.text, \"html.parser\")\n",
        "    search_results = soup.select(\"div.r a\")\n",
        "\n",
        "    urls = []\n",
        "    for result in search_results:\n",
        "        url = result.get(\"href\")\n",
        "        if url.startswith(\"/url?q=\"):\n",
        "            url = url[7:]  # Remove \"/url?q=\" from the beginning\n",
        "            url = url.split(\"&\")[0]  # Remove additional parameters\n",
        "            urls.append(url)\n",
        "\n",
        "    return urls\n",
        "\n",
        "# Example usage\n",
        "keyword = \"Image editing AI\"\n",
        "num_results = 10\n",
        "urls = get_google_urls(keyword, num_results)\n",
        "\n",
        "print(\"Top\", num_results, \"URLs for\", keyword + \":\")\n",
        "for url in urls:\n",
        "    print(url)\n"
      ],
      "metadata": {
        "colab": {
          "base_uri": "https://localhost:8080/"
        },
        "id": "XP6t9umI1r22",
        "outputId": "e519bca9-69f3-4761-88d8-852e146f3c0b"
      },
      "execution_count": 5,
      "outputs": [
        {
          "output_type": "stream",
          "name": "stdout",
          "text": [
            "Top 10 URLs for Image editing AI:\n"
          ]
        }
      ]
    },
    {
      "cell_type": "markdown",
      "source": [
        "Get Keyword from Job description"
      ],
      "metadata": {
        "id": "kt95LTdc2OSU"
      }
    },
    {
      "cell_type": "code",
      "source": [
        "import spacy\n",
        "\n",
        "# Load the pre-trained spaCy model\n",
        "nlp = spacy.load('en_core_web_sm')\n",
        "\n",
        "def generate_resume(job_description_file):\n",
        "    # Read the job description from the text file\n",
        "    with open(job_description_file, 'r') as file:\n",
        "        job_description = file.read()\n",
        "\n",
        "    # Process the job description using spaCy\n",
        "    doc = nlp(job_description)\n",
        "    #print(doc)\n",
        "    # Extract relevant roles mentioned in the job description\n",
        "    roles = set()\n",
        "    for entity in doc.ents:\n",
        "        #  if entity.label_ == 'Must-Have Skills:':\n",
        "        roles.add(entity.text)\n",
        "\n",
        "    # Generate the resume based on the extracted roles\n",
        "    resume = \"RESUME\\n\\n\"\n",
        "    resume += \"Skills:\\n\"\n",
        "    for role in roles:\n",
        "        resume += f\"- {role}\\n\"\n",
        "\n",
        "    return resume\n",
        "\n"
      ],
      "metadata": {
        "id": "IDS0Z_ru2KTa"
      },
      "execution_count": 32,
      "outputs": []
    },
    {
      "cell_type": "code",
      "source": [
        "from google.colab import drive\n",
        "drive.mount('/content/drive')\n"
      ],
      "metadata": {
        "colab": {
          "base_uri": "https://localhost:8080/"
        },
        "id": "Ukk1J6Eb4x1v",
        "outputId": "b7daa8ea-8a67-43b1-f573-699869ee2bd3"
      },
      "execution_count": 10,
      "outputs": [
        {
          "output_type": "stream",
          "name": "stdout",
          "text": [
            "Drive already mounted at /content/drive; to attempt to forcibly remount, call drive.mount(\"/content/drive\", force_remount=True).\n"
          ]
        }
      ]
    },
    {
      "cell_type": "code",
      "source": [
        "file_path = '/content/drive/MyDrive/job_description.txt'\n",
        "with open(file_path, 'r') as file:\n",
        "    content = file.read()\n",
        "    print(content)\n"
      ],
      "metadata": {
        "colab": {
          "base_uri": "https://localhost:8080/"
        },
        "id": "lOdw3OZ15Ry1",
        "outputId": "62ea79c6-b982-44e7-d866-6fa390be71d2"
      },
      "execution_count": 11,
      "outputs": [
        {
          "output_type": "stream",
          "name": "stdout",
          "text": [
            "We are looking for a Java Backend Lead who has 3+ years of experience in designing, developing and implementing secure backend services using Java / Groovy / Python / Golang and AWS.\n",
            "\n",
            "\n",
            "Must-Have Skills:\n",
            "\n",
            "5 years of coding experience in JAVA programming language.\n",
            "Experience in developing microservices.\n",
            "Hands on software development experience in an object-oriented programming language such as Java, Groovy.\n",
            "Experience in CICD standard methodologies and familiar with tools used in CICD pipelines: such as Jenkins, GitHub, Nexus, Artifactory, Maven, Gradle, and SonarQube\n",
            "Experienced with Agile Methodologies\n",
            "Deep knowledge of computer science fundamentals such as Object-oriented programming concepts, design patterns, and data structures\n",
            "\n",
            "Good to have Skills:\n",
            "\n",
            "Experience with container and container orchestration technologies such as Docker, and Kubernetes, helm.\n",
            "Experience in public cloud experience like aws.\n",
            "Experience in data and information visualization tools like grfana , datadog , dyntrace , appdynamics\n",
            "\n",
            "Minimum Qualification: Bachelor’s or Master’s degree in Computer Science or related area\n",
            "\n",
            "\n",
            "Experience: 5-12 years\n",
            "\n",
            "\n",
            "Work Location: Remote\n",
            "\n",
            "\n",
            "Roles and Responsibilities:\n",
            "\n",
            "Contribute in the effort of solving complex and technical challenges to improve engineering efficiency\n",
            "Design, build, and on-board tools to accelerate build, testing, release, and deployment.\n",
            "Highly motivated with excellent verbal, written communication skills, humility, team-first attitude and the ability to execute in timely manner.\n",
            "Drive technical decisions /initiatives for the team.\n",
            "Excellent problem-solving skills, use of logic and ability to think outside the box when troubleshooting issues\n",
            "Ability to work successfully with multi-functional teams and tech leads. Coordinates effectively across organizational boundaries and geographies.\n",
            "Good in researching latest tech and trends.\n",
            "Mentor team members and maintain engineering excellence\n",
            "Daily Responsibilities\n",
            "70% Hands On\n",
            "30% Team Collaboration\n"
          ]
        }
      ]
    },
    {
      "cell_type": "code",
      "source": [
        "job_description_file = '/content/drive/MyDrive/job_description.txt'\n",
        "resume = generate_resume(job_description_file)\n",
        "print(resume)"
      ],
      "metadata": {
        "colab": {
          "base_uri": "https://localhost:8080/"
        },
        "id": "hV8PA7NZ5iDR",
        "outputId": "01dc0cca-95dd-4111-de39-8443cc7a6444"
      },
      "execution_count": 33,
      "outputs": [
        {
          "output_type": "stream",
          "name": "stdout",
          "text": [
            "RESUME\n",
            "\n",
            "Skills:\n",
            "- Contribute\n",
            "- Maven\n",
            "- grfana\n",
            "- 5 years\n",
            "- Java / Groovy / Python / Golang\n",
            "- CICD\n",
            "- Artifactory\n",
            "- Computer Science\n",
            "- Nexus\n",
            "- AWS\n",
            "- Design\n",
            "- Java, Groovy\n",
            "- 5-12 years\n",
            "- Gradle\n",
            "- Kubernetes\n",
            "- SonarQube\n",
            "- JAVA\n",
            "- Docker\n",
            "- 3+ years\n",
            "- Jenkins\n",
            "- helm\n",
            "- Daily Responsibilities\n",
            "- 30%\n",
            "- 70%\n",
            "- GitHub\n",
            "\n"
          ]
        }
      ]
    }
  ]
}