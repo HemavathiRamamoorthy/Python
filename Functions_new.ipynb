{
  "nbformat": 4,
  "nbformat_minor": 0,
  "metadata": {
    "kernelspec": {
      "display_name": "Python 3",
      "language": "python",
      "name": "python3"
    },
    "language_info": {
      "codemirror_mode": {
        "name": "ipython",
        "version": 3
      },
      "file_extension": ".py",
      "mimetype": "text/x-python",
      "name": "python",
      "nbconvert_exporter": "python",
      "pygments_lexer": "ipython3",
      "version": "3.7.6"
    },
    "colab": {
      "provenance": [],
      "include_colab_link": true
    }
  },
  "cells": [
    {
      "cell_type": "markdown",
      "metadata": {
        "id": "view-in-github",
        "colab_type": "text"
      },
      "source": [
        "<a href=\"https://colab.research.google.com/github/HemavathiRamamoorthy/Python/blob/main/Functions_new.ipynb\" target=\"_parent\"><img src=\"https://colab.research.google.com/assets/colab-badge.svg\" alt=\"Open In Colab\"/></a>"
      ]
    },
    {
      "cell_type": "markdown",
      "metadata": {
        "id": "AxvS8UcXHniY"
      },
      "source": [
        "# FUNCTIONS AND OUTCOMES"
      ]
    },
    {
      "cell_type": "markdown",
      "metadata": {
        "id": "IyX-y07-Hnie"
      },
      "source": [
        "> **Best way of programming is done by dividing a big program into smaller modules and repeatedly call these modules.**\n",
        "\n",
        "> **Can be achieved by using functions**\n",
        "\n",
        "> **Code's Readability and flow of execution of small modules can be managed easily**"
      ]
    },
    {
      "cell_type": "code",
      "metadata": {
        "id": "AZxsVrkUHnif"
      },
      "source": [
        "# Syntax and Basics of a Function"
      ],
      "execution_count": null,
      "outputs": []
    },
    {
      "cell_type": "code",
      "metadata": {
        "id": "j9i68QN9Hnih"
      },
      "source": [
        "def function_name(Parameters):  # -----------------> Function Header\n",
        "############# Function Body #############\n",
        "    statement1 \n",
        "    statement2\n",
        "    statement3\n",
        "    #---------\n",
        "    #---------\n",
        "    statementN"
      ],
      "execution_count": null,
      "outputs": []
    },
    {
      "cell_type": "markdown",
      "metadata": {
        "id": "MBCCRHEVHnii"
      },
      "source": [
        "#### ***def*** - Keyword which signifies the beginning of the function's definition. Name of Function is followed by function's definition\n",
        "#### ***Function Header*** -  may contain zero or more number of parmeters. These are called Formal Parameters.\n",
        "#### ***Function's Body*** -  is block of statements which defines the actions."
      ]
    },
    {
      "cell_type": "markdown",
      "metadata": {
        "id": "XRJ1zGGCHnij"
      },
      "source": [
        "# Function Junction"
      ]
    },
    {
      "cell_type": "code",
      "metadata": {
        "id": "EJn9AREGHnij"
      },
      "source": [
        "def display():\n",
        "    \"\"\"Prints 'Hello World!' to the console.\"\"\"\n",
        "    print(\"Hello World!\")"
      ],
      "execution_count": null,
      "outputs": []
    },
    {
      "cell_type": "markdown",
      "metadata": {
        "id": "Q56OYx79Hnik"
      },
      "source": [
        "# Call and Response"
      ]
    },
    {
      "cell_type": "markdown",
      "metadata": {
        "id": "mKyl7YNCHnil"
      },
      "source": [
        "**After defining a function, it must be called to be implemented.**"
      ]
    },
    {
      "cell_type": "code",
      "metadata": {
        "id": "3vSKC_HTHnim",
        "colab": {
          "base_uri": "https://localhost:8080/"
        },
        "outputId": "260d8168-ddda-4cc3-dd1c-23756f5fecf9"
      },
      "source": [
        "display()"
      ],
      "execution_count": null,
      "outputs": [
        {
          "output_type": "stream",
          "name": "stdout",
          "text": [
            "Hello World!\n"
          ]
        }
      ]
    },
    {
      "cell_type": "markdown",
      "metadata": {
        "id": "_8vbMkLrdKnr"
      },
      "source": [
        "The return statement\n",
        "The return statement is used at the end of the function and returns the result of the function. It terminates the function execution and transfers the result where the function is called. The return statement cannot be used outside of the function.\n",
        "\n",
        "Syntax return [expression_list]  "
      ]
    },
    {
      "cell_type": "code",
      "metadata": {
        "colab": {
          "base_uri": "https://localhost:8080/"
        },
        "id": "C4YxMjOYdjbZ",
        "outputId": "5f3d6a54-984c-4f24-bd1e-e2201e54b947"
      },
      "source": [
        "#Example1\n",
        "# Defining function  \n",
        "def sum():  \n",
        "    a = 10  \n",
        "    b = 20  \n",
        "    c = a+b  \n",
        "    return c  \n",
        "# calling sum() function in print statement  \n",
        "print(\"The sum is:\",sum())  "
      ],
      "execution_count": null,
      "outputs": [
        {
          "output_type": "stream",
          "name": "stdout",
          "text": [
            "The sum is: 30\n"
          ]
        }
      ]
    },
    {
      "cell_type": "code",
      "metadata": {
        "colab": {
          "base_uri": "https://localhost:8080/"
        },
        "id": "XEQHS6CTdoFw",
        "outputId": "0950309a-1c6d-4d09-b146-304973b28e9e"
      },
      "source": [
        "#Example 2 Creating function without return statement\n",
        "# Defining function  \n",
        "def sum():  \n",
        "    a = 10  \n",
        "    b = 20  \n",
        "    c = a+b  \n",
        "# calling sum() function in print statement  \n",
        "print(sum())  "
      ],
      "execution_count": null,
      "outputs": [
        {
          "output_type": "stream",
          "name": "stdout",
          "text": [
            "None\n"
          ]
        }
      ]
    },
    {
      "cell_type": "code",
      "metadata": {
        "colab": {
          "base_uri": "https://localhost:8080/"
        },
        "id": "bMRT1bYMd1j5",
        "outputId": "c6bdd8e8-9c95-4645-d51a-07479b849fb3"
      },
      "source": [
        "#Example 3 Creating function without return statement\n",
        "# Defining function  \n",
        "def sum():  \n",
        "    a = 10  \n",
        "    b = 20  \n",
        "    c = a+b  \n",
        "    print(c)\n",
        "# calling sum() function in print statement  \n",
        "sum()"
      ],
      "execution_count": null,
      "outputs": [
        {
          "output_type": "stream",
          "name": "stdout",
          "text": [
            "30\n"
          ]
        }
      ]
    },
    {
      "cell_type": "markdown",
      "metadata": {
        "id": "0KMY6JY2Hnio"
      },
      "source": [
        "#### Write program to add the sum of numbers starting from 1 to 25, 50 to 75 and 90 to 100 using three different for loops"
      ]
    },
    {
      "cell_type": "code",
      "metadata": {
        "id": "3CMwlcn-Hnio",
        "colab": {
          "base_uri": "https://localhost:8080/"
        },
        "outputId": "bc9e6254-7bf2-4992-be8f-fef9b8d5c071"
      },
      "source": [
        "sum = 0\n",
        "for i in range(1,26):\n",
        "    sum = sum+i\n",
        "print(\"Sum of integers from 1 to 25 is = \", sum)\n",
        "\n",
        "sum = 0\n",
        "for i in range(50,76):\n",
        "    sum = sum + i\n",
        "print(\"Sum of integers from 50 to 75 is = \", sum)\n",
        "\n",
        "sum = 0\n",
        "for i in range(90, 101):\n",
        "    sum = sum + i\n",
        "print(\"Sum of integers from 90 to 100 is = \", sum)"
      ],
      "execution_count": null,
      "outputs": [
        {
          "output_type": "stream",
          "name": "stdout",
          "text": [
            "Sum of integers from 1 to 25 is =  325\n",
            "Sum of integers from 50 to 75 is =  1625\n",
            "Sum of integers from 90 to 100 is =  1045\n"
          ]
        }
      ]
    },
    {
      "cell_type": "markdown",
      "metadata": {
        "id": "t3qnpq7dHnip"
      },
      "source": [
        "#### Simplifying the above program using Functions"
      ]
    },
    {
      "cell_type": "code",
      "metadata": {
        "id": "AHiWJY4xHniq"
      },
      "source": [
        "def sum(x,y):\n",
        "    sum = 0\n",
        "    for i in range(x,y+1):\n",
        "        sum = sum + i\n",
        "    print('Sum of integers from {} to {} is {}'.format(x,y,sum))"
      ],
      "execution_count": null,
      "outputs": []
    },
    {
      "cell_type": "code",
      "metadata": {
        "id": "2IXjBTCNHnir",
        "colab": {
          "base_uri": "https://localhost:8080/"
        },
        "outputId": "f7ef1ad0-a67d-4da8-8f57-0b1d03839554"
      },
      "source": [
        "sum(1,25)\n",
        "sum(50,75)\n",
        "sum(90,100)\n",
        "sum(400,600)"
      ],
      "execution_count": null,
      "outputs": [
        {
          "output_type": "stream",
          "name": "stdout",
          "text": [
            "Sum of integers from 1 to 25 is 325\n",
            "Sum of integers from 50 to 75 is 1625\n",
            "Sum of integers from 90 to 100 is 1045\n",
            "Sum of integers from 400 to 600 is 100500\n"
          ]
        }
      ]
    },
    {
      "cell_type": "code",
      "metadata": {
        "id": "cMcbdxavHnir"
      },
      "source": [
        "def square(n):\n",
        "    squared = n ** 2\n",
        "    print (\"%d squared is %d.\" % (n, squared))\n",
        "    #return squared"
      ],
      "execution_count": null,
      "outputs": []
    },
    {
      "cell_type": "markdown",
      "metadata": {
        "id": "DVrUO4VJHnis"
      },
      "source": [
        "- %d is used as a place holder for numeric or decimal values.\n",
        "- %s is used for strings"
      ]
    },
    {
      "cell_type": "code",
      "metadata": {
        "id": "6Vk3UzPWHnis",
        "colab": {
          "base_uri": "https://localhost:8080/"
        },
        "outputId": "83b4cdd3-92b1-4ff5-b9af-d9e54ccd65be"
      },
      "source": [
        "square(6)"
      ],
      "execution_count": null,
      "outputs": [
        {
          "output_type": "stream",
          "name": "stdout",
          "text": [
            "6 squared is 36.\n"
          ]
        }
      ]
    },
    {
      "cell_type": "markdown",
      "metadata": {
        "id": "lPtpyMToHnit"
      },
      "source": [
        "# Parameters and Arguments"
      ]
    },
    {
      "cell_type": "markdown",
      "metadata": {
        "id": "-06u4X5YHniu"
      },
      "source": [
        "- %d is used as a placeholder for numeric or decimal values\n",
        "- The %d is for numbers, and %s is for strings."
      ]
    },
    {
      "cell_type": "markdown",
      "metadata": {
        "id": "bEloszHlji5-"
      },
      "source": [
        "Arguments in function\n",
        "The arguments are types of information which can be passed into the function. The arguments are specified in the parentheses. We can pass any number of arguments, but they must be separate them with a comma.\n",
        "\n",
        "Consider the following example, which contains a function that accepts a string as the argument."
      ]
    },
    {
      "cell_type": "code",
      "metadata": {
        "colab": {
          "base_uri": "https://localhost:8080/"
        },
        "id": "OCI5_dEYjmd2",
        "outputId": "df46949e-1137-4d6b-d1fd-6e8ef0d1aaca"
      },
      "source": [
        "#defining the function    \n",
        "def func (name):    \n",
        "    print(\"Hi \",name)   \n",
        "#calling the function     \n",
        "func(\"Devansh\")     "
      ],
      "execution_count": null,
      "outputs": [
        {
          "output_type": "stream",
          "name": "stdout",
          "text": [
            "Hi  Devansh\n"
          ]
        }
      ]
    },
    {
      "cell_type": "code",
      "metadata": {
        "colab": {
          "base_uri": "https://localhost:8080/"
        },
        "id": "ZbBB4RDdjo_3",
        "outputId": "ade998f2-9f25-4985-e6ca-efa15033d169"
      },
      "source": [
        "#Python function to calculate the sum of two variables     \n",
        "#defining the function    \n",
        "def sum (a,b):    \n",
        "    return a+b;    \n",
        "    \n",
        "#taking values from the user    \n",
        "a = int(input(\"Enter a: \"))    \n",
        "b = int(input(\"Enter b: \"))    \n",
        "    \n",
        "#printing the sum of a and b    \n",
        "print(\"Sum = \",sum(a,b))    "
      ],
      "execution_count": null,
      "outputs": [
        {
          "output_type": "stream",
          "name": "stdout",
          "text": [
            "Enter a: 3\n",
            "Enter b: 2\n",
            "Sum =  5\n"
          ]
        }
      ]
    },
    {
      "cell_type": "markdown",
      "metadata": {
        "id": "5QQZMsc4jxVn"
      },
      "source": [
        "Call by reference in Python\n",
        "In Python, call by reference means passing the actual value as an argument in the function. All the functions are called by reference, i.e., all the changes made to the reference inside the function revert back to the original value referred by the reference."
      ]
    },
    {
      "cell_type": "code",
      "metadata": {
        "colab": {
          "base_uri": "https://localhost:8080/"
        },
        "id": "D__sVWY3ju21",
        "outputId": "c157ca42-613b-47af-e542-52e7f9f5c9d6"
      },
      "source": [
        "#Example 1 Passing mutable Object (List)\n",
        "#defining the function    \n",
        "def change_list(list1):    \n",
        "    list1.append(20)   \n",
        "    list1.append(30)    \n",
        "    print(\"list inside function = \",list1)    \n",
        "    \n",
        "#defining the list    \n",
        "list1 = [10,30,40,50]    \n",
        "\n",
        "#calling the function     \n",
        "change_list(list1)  \n",
        "print(\"list outside function = \",list1)  "
      ],
      "execution_count": null,
      "outputs": [
        {
          "output_type": "stream",
          "name": "stdout",
          "text": [
            "list inside function =  [10, 30, 40, 50, 20, 30]\n",
            "list outside function =  [10, 30, 40, 50, 20, 30]\n"
          ]
        }
      ]
    },
    {
      "cell_type": "code",
      "metadata": {
        "colab": {
          "base_uri": "https://localhost:8080/"
        },
        "id": "h4_5i2Wsj8D_",
        "outputId": "17a528cc-b6eb-4800-e5fc-f61c8457b217"
      },
      "source": [
        "#Example 2 Passing imMutable Object (String)\n",
        "#defining the function    \n",
        "def change_string (str):    \n",
        "    str = str + \" Hows you \"  \n",
        "    print(\"printing the string inside function :\",str)  \n",
        "    \n",
        "string1 = \"Hi I am there\"    \n",
        "    \n",
        "#calling the function    \n",
        "change_string(string1)    \n",
        "    \n",
        "print(\"printing the string outside function :\",string1)    \n"
      ],
      "execution_count": null,
      "outputs": [
        {
          "output_type": "stream",
          "name": "stdout",
          "text": [
            "printing the string inside function : Hi I am there Hows you \n",
            "printing the string outside function : Hi I am there\n"
          ]
        }
      ]
    },
    {
      "cell_type": "markdown",
      "metadata": {
        "id": "C74i14kQkTaj"
      },
      "source": [
        "Types of arguments\n",
        "There may be several types of arguments which can be passed at the time of function call.\n",
        "1. Required arguments\n",
        "2.Keyword arguments\n",
        "3.Default arguments\n",
        "4.Variable-length arguments"
      ]
    },
    {
      "cell_type": "markdown",
      "metadata": {
        "id": "SccQz1NLi9zp"
      },
      "source": [
        "**Required Arguments/Positional Arguments**\n",
        "However, we can provide the arguments at the time of the function call. As far as the required arguments are concerned, these are the arguments which are required to be passed at the time of function calling with the exact match of their positions in the function call and function definition. If either of the arguments is not provided in the function call, or the position of the arguments is changed, the Python interpreter will show the error."
      ]
    },
    {
      "cell_type": "code",
      "metadata": {
        "colab": {
          "base_uri": "https://localhost:8080/"
        },
        "id": "tp15M00ujngu",
        "outputId": "37f389f7-7c95-4ef4-abb8-74939eb6d5dd"
      },
      "source": [
        "def func(name):    \n",
        "    message = \"Hi \"+name  \n",
        "    return message  \n",
        "name = input(\"Enter the name:\")    \n",
        "print(func(name))    "
      ],
      "execution_count": null,
      "outputs": [
        {
          "output_type": "stream",
          "name": "stdout",
          "text": [
            "Enter the name:55\n",
            "Hi 55\n"
          ]
        }
      ]
    },
    {
      "cell_type": "code",
      "metadata": {
        "colab": {
          "base_uri": "https://localhost:8080/"
        },
        "id": "Okz8VYCKjRD7",
        "outputId": "b71dc711-a6f8-4ffd-8b8b-0e603c976a2b"
      },
      "source": [
        "#the function simple_interest accepts three arguments and returns the simple interest accordingly    \n",
        "def simple_interest(p,t,r):    \n",
        "    return (p*t*r)/100    \n",
        "p = float(input(\"Enter the principle amount? \"))    \n",
        "r = float(input(\"Enter the rate of interest? \"))    \n",
        "t = float(input(\"Enter the time in years? \"))    \n",
        "print(\"Simple Interest: \",simple_interest(p,t,r))    "
      ],
      "execution_count": null,
      "outputs": [
        {
          "output_type": "stream",
          "name": "stdout",
          "text": [
            "Enter the principle amount? 2000\n",
            "Enter the rate of interest? 5\n",
            "Enter the time in years? 2\n",
            "Simple Interest:  200.0\n"
          ]
        }
      ]
    },
    {
      "cell_type": "code",
      "metadata": {
        "id": "bUtlasMvjrzn",
        "colab": {
          "base_uri": "https://localhost:8080/",
          "height": 195
        },
        "outputId": "e6dd16dd-3bcc-4104-8032-5e95b9b4bed7"
      },
      "source": [
        "#the function calculate returns the sum of two arguments a and b    \n",
        "def calculate(a,b):    \n",
        "    return a+b    \n",
        "calculate(10) # this causes an error as we are missing a required arguments b.    "
      ],
      "execution_count": null,
      "outputs": [
        {
          "output_type": "error",
          "ename": "TypeError",
          "evalue": "ignored",
          "traceback": [
            "\u001b[0;31m---------------------------------------------------------------------------\u001b[0m",
            "\u001b[0;31mTypeError\u001b[0m                                 Traceback (most recent call last)",
            "\u001b[0;32m<ipython-input-21-d2953607ffe6>\u001b[0m in \u001b[0;36m<module>\u001b[0;34m()\u001b[0m\n\u001b[1;32m      2\u001b[0m \u001b[0;32mdef\u001b[0m \u001b[0mcalculate\u001b[0m\u001b[0;34m(\u001b[0m\u001b[0ma\u001b[0m\u001b[0;34m,\u001b[0m\u001b[0mb\u001b[0m\u001b[0;34m)\u001b[0m\u001b[0;34m:\u001b[0m\u001b[0;34m\u001b[0m\u001b[0;34m\u001b[0m\u001b[0m\n\u001b[1;32m      3\u001b[0m     \u001b[0;32mreturn\u001b[0m \u001b[0ma\u001b[0m\u001b[0;34m+\u001b[0m\u001b[0mb\u001b[0m\u001b[0;34m\u001b[0m\u001b[0;34m\u001b[0m\u001b[0m\n\u001b[0;32m----> 4\u001b[0;31m \u001b[0mcalculate\u001b[0m\u001b[0;34m(\u001b[0m\u001b[0;36m10\u001b[0m\u001b[0;34m)\u001b[0m \u001b[0;31m# this causes an error as we are missing a required arguments b.\u001b[0m\u001b[0;34m\u001b[0m\u001b[0;34m\u001b[0m\u001b[0m\n\u001b[0m",
            "\u001b[0;31mTypeError\u001b[0m: calculate() missing 1 required positional argument: 'b'"
          ]
        }
      ]
    },
    {
      "cell_type": "code",
      "metadata": {
        "id": "1N3Dp2TBHniv",
        "colab": {
          "base_uri": "https://localhost:8080/"
        },
        "outputId": "d6f7fe15-69bd-49e9-e34a-7050be55b653"
      },
      "source": [
        "complex(imag=5,real=3)"
      ],
      "execution_count": null,
      "outputs": [
        {
          "output_type": "execute_result",
          "data": {
            "text/plain": [
              "(3+5j)"
            ]
          },
          "metadata": {},
          "execution_count": 22
        }
      ]
    },
    {
      "cell_type": "code",
      "metadata": {
        "id": "YE3-u10RHniw",
        "colab": {
          "base_uri": "https://localhost:8080/"
        },
        "outputId": "3754e7d1-63b6-4ef3-e9a2-b14f52852d82"
      },
      "source": [
        "complex(3,5)"
      ],
      "execution_count": null,
      "outputs": [
        {
          "output_type": "execute_result",
          "data": {
            "text/plain": [
              "(3+5j)"
            ]
          },
          "metadata": {},
          "execution_count": 5
        }
      ]
    },
    {
      "cell_type": "code",
      "metadata": {
        "id": "aQbCb0K9Hniy",
        "outputId": "1295a849-5936-4e7c-f326-b2337f3c7c9e"
      },
      "source": [
        "complex(3, 5)"
      ],
      "execution_count": null,
      "outputs": [
        {
          "output_type": "execute_result",
          "data": {
            "text/plain": [
              "(3+5j)"
            ]
          },
          "metadata": {
            "tags": []
          },
          "execution_count": 9
        }
      ]
    },
    {
      "cell_type": "code",
      "metadata": {
        "id": "ElvgeG8HHniz",
        "colab": {
          "base_uri": "https://localhost:8080/"
        },
        "outputId": "787075a8-2bea-4c2c-c441-037b8138e370"
      },
      "source": [
        "def Positional_Arguments(place, pincode):\n",
        "    print(\"Place = {} and Pincode = {}\".format(place, pincode))\n",
        "Positional_Arguments(\"Hyderabad\", 500082)\n",
        "Positional_Arguments(500019,\"Nizampet\")"
      ],
      "execution_count": null,
      "outputs": [
        {
          "output_type": "stream",
          "name": "stdout",
          "text": [
            "Place = Hyderabad and Pincode = 500082\n",
            "Place = 500019 and Pincode = Nizampet\n"
          ]
        }
      ]
    },
    {
      "cell_type": "markdown",
      "metadata": {
        "id": "PnRWCgKYk-Az"
      },
      "source": [
        "**Default Arguments**\n",
        "Python allows us to initialize the arguments at the function definition. If the value of any of the arguments is not provided at the time of function call, then that argument can be initialized with the value given in the definition even if the argument is not specified at the function call."
      ]
    },
    {
      "cell_type": "code",
      "metadata": {
        "colab": {
          "base_uri": "https://localhost:8080/"
        },
        "id": "rLMOJJ_rlB4V",
        "outputId": "ca4e47e5-ea43-4d4f-f36f-ec11203788cb"
      },
      "source": [
        "def printme(name,age=22):    \n",
        "    print(\"My name is\",name,\"and age is\",age)    \n",
        "printme(name = \"john\")  "
      ],
      "execution_count": null,
      "outputs": [
        {
          "output_type": "stream",
          "name": "stdout",
          "text": [
            "My name is john and age is 22\n"
          ]
        }
      ]
    },
    {
      "cell_type": "code",
      "metadata": {
        "colab": {
          "base_uri": "https://localhost:8080/"
        },
        "id": "9T5tgCD2lxGQ",
        "outputId": "c8c4dd87-1c7d-4ec5-922a-db0156c7dc48"
      },
      "source": [
        "def printme(name,age=22):    \n",
        "    print(\"My name is\",name,\"and age is\",age)    \n",
        "printme(name = \"john\") #the variable age is not passed into the function however the default value of age is considered in the function    \n",
        "printme(age = 10,name=\"David\") #the value of age is overwritten here, 10 will be printed as age   "
      ],
      "execution_count": null,
      "outputs": [
        {
          "output_type": "stream",
          "name": "stdout",
          "text": [
            "My name is john and age is 22\n",
            "My name is David and age is 10\n"
          ]
        }
      ]
    },
    {
      "cell_type": "code",
      "metadata": {
        "id": "p3v6Dd3HmnPc"
      },
      "source": [
        "def area_circle(r,pi=3.14):\n",
        "    Area = pi*r**2\n",
        "    print(\"Area of Circle is multiplying the square of radius = {} with pi = {} and the result = {} \".format(r,pi,Area))"
      ],
      "execution_count": null,
      "outputs": []
    },
    {
      "cell_type": "code",
      "metadata": {
        "colab": {
          "base_uri": "https://localhost:8080/"
        },
        "id": "loDEQMVkmpKd",
        "outputId": "94022c49-4cc8-41a3-fe85-7b308fec566c"
      },
      "source": [
        "area_circle(5)"
      ],
      "execution_count": null,
      "outputs": [
        {
          "output_type": "stream",
          "name": "stdout",
          "text": [
            "Area of Circle is multiplying the square of radius = 5 with pi = 3.14 and the result = 78.5 \n"
          ]
        }
      ]
    },
    {
      "cell_type": "markdown",
      "metadata": {
        "id": "AgGsH8Qim6nu"
      },
      "source": [
        "# Overriding the Default Arguments is possible ?\n",
        "\n",
        "***Yes, it's possible***"
      ]
    },
    {
      "cell_type": "code",
      "metadata": {
        "colab": {
          "base_uri": "https://localhost:8080/"
        },
        "id": "ByDLLsCxmwas",
        "outputId": "2cc5c9b4-5252-46ab-ac2f-51521c6a3a5a"
      },
      "source": [
        "area_circle(5,10)"
      ],
      "execution_count": null,
      "outputs": [
        {
          "output_type": "stream",
          "name": "stdout",
          "text": [
            "Area of Circle is multiplying the square of radius = 5 with pi = 10 and the result = 250 \n"
          ]
        }
      ]
    },
    {
      "cell_type": "markdown",
      "metadata": {
        "id": "swoLxDehHni0"
      },
      "source": [
        "# Keyword Arguments\n",
        "Python allows us to call the function with the keyword arguments. This kind of function call will enable us to pass the arguments in the random order. The name of the arguments is treated as the keywords and matched in the function calling and definition. If the same match is found, the values of the arguments are copied in the function definition."
      ]
    },
    {
      "cell_type": "code",
      "metadata": {
        "colab": {
          "base_uri": "https://localhost:8080/"
        },
        "id": "_JaS1TM1pPGd",
        "outputId": "f12d6d36-585d-4bd8-a24e-277ae984c4c3"
      },
      "source": [
        "#function func is called with the name and message as the keyword arguments    \n",
        "def func(name,message):    \n",
        "    print(\"printing the message with\",name,\"and \",message)    \n",
        "      \n",
        "    #name and message is copied with the values John and hello respectively    \n",
        "func(name = \"John\",message=\"hello\")   "
      ],
      "execution_count": null,
      "outputs": [
        {
          "output_type": "stream",
          "name": "stdout",
          "text": [
            "printing the message with John and  hello\n"
          ]
        }
      ]
    },
    {
      "cell_type": "code",
      "metadata": {
        "colab": {
          "base_uri": "https://localhost:8080/"
        },
        "id": "dd1AJue4pQ8c",
        "outputId": "edfc16ce-e48f-40e2-e041-1a18e0c26d6d"
      },
      "source": [
        "#The function simple_interest(p, t, r) is called with the keyword arguments the order of arguments doesn't matter in this case    \n",
        "def simple_interest(p,t,r):    \n",
        "    return (p*t*r)/100    \n",
        "print(\"Simple Interest: \",simple_interest(t=10,r=10,p=1900))     "
      ],
      "execution_count": null,
      "outputs": [
        {
          "output_type": "stream",
          "name": "stdout",
          "text": [
            "Simple Interest:  1900.0\n"
          ]
        }
      ]
    },
    {
      "cell_type": "code",
      "metadata": {
        "colab": {
          "base_uri": "https://localhost:8080/",
          "height": 195
        },
        "id": "dyNpz69rpTPM",
        "outputId": "1305a181-b29b-4ef1-9896-2ed9ec64c2dd"
      },
      "source": [
        "#The function simple_interest(p, t, r) is called with the keyword arguments.     \n",
        "def simple_interest(p,t,r):    \n",
        "    return (p*t*r)/100    \n",
        "  \n",
        "# doesn't find the exact match of the name of the arguments (keywords)      \n",
        "print(\"Simple Interest: \",simple_interest(time=10,rate=10,principle=1900))   "
      ],
      "execution_count": null,
      "outputs": [
        {
          "output_type": "error",
          "ename": "TypeError",
          "evalue": "ignored",
          "traceback": [
            "\u001b[0;31m---------------------------------------------------------------------------\u001b[0m",
            "\u001b[0;31mTypeError\u001b[0m                                 Traceback (most recent call last)",
            "\u001b[0;32m<ipython-input-31-39b297b452ea>\u001b[0m in \u001b[0;36m<module>\u001b[0;34m()\u001b[0m\n\u001b[1;32m      4\u001b[0m \u001b[0;34m\u001b[0m\u001b[0m\n\u001b[1;32m      5\u001b[0m \u001b[0;31m# doesn't find the exact match of the name of the arguments (keywords)\u001b[0m\u001b[0;34m\u001b[0m\u001b[0;34m\u001b[0m\u001b[0;34m\u001b[0m\u001b[0m\n\u001b[0;32m----> 6\u001b[0;31m \u001b[0mprint\u001b[0m\u001b[0;34m(\u001b[0m\u001b[0;34m\"Simple Interest: \"\u001b[0m\u001b[0;34m,\u001b[0m\u001b[0msimple_interest\u001b[0m\u001b[0;34m(\u001b[0m\u001b[0mtime\u001b[0m\u001b[0;34m=\u001b[0m\u001b[0;36m10\u001b[0m\u001b[0;34m,\u001b[0m\u001b[0mrate\u001b[0m\u001b[0;34m=\u001b[0m\u001b[0;36m10\u001b[0m\u001b[0;34m,\u001b[0m\u001b[0mprinciple\u001b[0m\u001b[0;34m=\u001b[0m\u001b[0;36m1900\u001b[0m\u001b[0;34m)\u001b[0m\u001b[0;34m)\u001b[0m\u001b[0;34m\u001b[0m\u001b[0;34m\u001b[0m\u001b[0m\n\u001b[0m",
            "\u001b[0;31mTypeError\u001b[0m: simple_interest() got an unexpected keyword argument 'time'"
          ]
        }
      ]
    },
    {
      "cell_type": "code",
      "metadata": {
        "id": "tfTCqhgeHni0",
        "colab": {
          "base_uri": "https://localhost:8080/"
        },
        "outputId": "9febd15c-8279-4221-8739-78e700dccb7a"
      },
      "source": [
        "def show(name,age):\n",
        "    print(\"Name = {}, Age = {}\".format(name,age))\n",
        "    \n",
        "show(age = 70, name = 'Rajinikanth')"
      ],
      "execution_count": null,
      "outputs": [
        {
          "output_type": "stream",
          "name": "stdout",
          "text": [
            "Name = Rajinikanth, Age = 70\n"
          ]
        }
      ]
    },
    {
      "cell_type": "markdown",
      "metadata": {
        "id": "UWPhTeSCr8cd"
      },
      "source": [
        "The Python allows us to provide the mix of the required arguments and keyword arguments at the time of function call. However, the required argument must not be given after the keyword argument, i.e., once the keyword argument is encountered in the function call, the following arguments must also be the keyword arguments."
      ]
    },
    {
      "cell_type": "code",
      "metadata": {
        "colab": {
          "base_uri": "https://localhost:8080/"
        },
        "id": "EWuWUSG-r5nM",
        "outputId": "131b876d-fea8-4e24-cf06-24d47b4bebab"
      },
      "source": [
        "def func(name1,message,name2):    \n",
        "    print(\"printing the message with\",name1,\",\",message,\",and\",name2)    \n",
        "#the first argument is not the keyword argument    \n",
        "func(\"John\",message=\"hello\",name2=\"David\")   "
      ],
      "execution_count": null,
      "outputs": [
        {
          "output_type": "stream",
          "name": "stdout",
          "text": [
            "printing the message with John , hello ,and David\n"
          ]
        }
      ]
    },
    {
      "cell_type": "code",
      "metadata": {
        "colab": {
          "base_uri": "https://localhost:8080/",
          "height": 128
        },
        "id": "ULUUBCGpsDYL",
        "outputId": "198d412e-ee85-4a0a-fc1b-ca4c664e08c8"
      },
      "source": [
        "def func(name1,message,name2):   \n",
        "    print(\"printing the message with\",name1,\",\",message,\",and\",name2)    \n",
        "func(\"John\",message=\"hello\",\"David\")  "
      ],
      "execution_count": null,
      "outputs": [
        {
          "output_type": "error",
          "ename": "SyntaxError",
          "evalue": "ignored",
          "traceback": [
            "\u001b[0;36m  File \u001b[0;32m\"<ipython-input-20-9bc955f0b32c>\"\u001b[0;36m, line \u001b[0;32m3\u001b[0m\n\u001b[0;31m    func(\"John\",message=\"hello\",\"David\")\u001b[0m\n\u001b[0m                               ^\u001b[0m\n\u001b[0;31mSyntaxError\u001b[0m\u001b[0;31m:\u001b[0m positional argument follows keyword argument\n"
          ]
        }
      ]
    },
    {
      "cell_type": "code",
      "metadata": {
        "colab": {
          "base_uri": "https://localhost:8080/"
        },
        "id": "xiIXnaGnsNQa",
        "outputId": "b7691e4e-1e01-4aab-f789-5078580cf622"
      },
      "source": [
        "#Many arguments using Keyword argument\n",
        "\n",
        "def food(**kwargs):  \n",
        "    print(kwargs)  \n",
        "food(a=\"Apple\")  \n",
        "food(fruits=\"Orange\", Vagitables=\"Carrot\")  "
      ],
      "execution_count": null,
      "outputs": [
        {
          "output_type": "stream",
          "name": "stdout",
          "text": [
            "{'a': 'Apple'}\n",
            "{'fruits': 'Orange', 'Vagitables': 'Carrot'}\n"
          ]
        }
      ]
    },
    {
      "cell_type": "markdown",
      "metadata": {
        "id": "OGT1ujKbskF0"
      },
      "source": [
        "# Variable-length Arguments (*args) \n",
        "In large projects, sometimes we may not know the number of arguments to be passed in advance. In such cases, Python provides us the flexibility to offer the comma-separated values which are internally treated as tuples at the function call. By using the variable-length arguments, we can pass any number of arguments.\n",
        "\n",
        "However, at the function definition, we define the variable-length argument using the *args (star) as *<variable - name >."
      ]
    },
    {
      "cell_type": "code",
      "metadata": {
        "colab": {
          "base_uri": "https://localhost:8080/"
        },
        "id": "78SelVc8soNS",
        "outputId": "e1fc216f-6c6c-41a5-f16c-e4312edba193"
      },
      "source": [
        "def printme(*names):    \n",
        "    print(\"type of passed argument is \",type(names))    \n",
        "    print(\"printing the passed arguments...\")    \n",
        "    for name in names:    \n",
        "        print(name)    \n",
        "printme(\"john\",\"David\",\"smith\",\"nick\")    "
      ],
      "execution_count": null,
      "outputs": [
        {
          "output_type": "stream",
          "name": "stdout",
          "text": [
            "type of passed argument is  <class 'tuple'>\n",
            "printing the passed arguments...\n",
            "john\n",
            "David\n",
            "smith\n",
            "nick\n"
          ]
        }
      ]
    },
    {
      "cell_type": "markdown",
      "metadata": {
        "id": "Hl_sj6pIHni3"
      },
      "source": [
        "# Local and Global Scope of a Variables\n",
        "\n",
        "- ***Variables and parameters that are initialized within a function including parameters, are said to be exist in that function's local scope. Variables that exist in local scope are local variables***\n",
        "- ***Variables that are assigned outside function are said to exist in global scope. Therefore, variables that exist in global scope are called global variables***"
      ]
    },
    {
      "cell_type": "code",
      "metadata": {
        "colab": {
          "base_uri": "https://localhost:8080/",
          "height": 212
        },
        "id": "RhCZM8--Yoqw",
        "outputId": "d7118d7a-58ed-42d1-be40-b045d7f32df0"
      },
      "source": [
        "def print_a():    \n",
        "    a1 = 10 # the variable message is local to the function itself    \n",
        "    print(a1)    \n",
        "print_a()    \n",
        "print(a1) "
      ],
      "execution_count": null,
      "outputs": [
        {
          "output_type": "stream",
          "name": "stdout",
          "text": [
            "10\n"
          ]
        },
        {
          "output_type": "error",
          "ename": "NameError",
          "evalue": "ignored",
          "traceback": [
            "\u001b[0;31m---------------------------------------------------------------------------\u001b[0m",
            "\u001b[0;31mNameError\u001b[0m                                 Traceback (most recent call last)",
            "\u001b[0;32m<ipython-input-38-4ecbbedb5400>\u001b[0m in \u001b[0;36m<module>\u001b[0;34m()\u001b[0m\n\u001b[1;32m      3\u001b[0m     \u001b[0mprint\u001b[0m\u001b[0;34m(\u001b[0m\u001b[0ma1\u001b[0m\u001b[0;34m)\u001b[0m\u001b[0;34m\u001b[0m\u001b[0;34m\u001b[0m\u001b[0m\n\u001b[1;32m      4\u001b[0m \u001b[0mprint_a\u001b[0m\u001b[0;34m(\u001b[0m\u001b[0;34m)\u001b[0m\u001b[0;34m\u001b[0m\u001b[0;34m\u001b[0m\u001b[0m\n\u001b[0;32m----> 5\u001b[0;31m \u001b[0mprint\u001b[0m\u001b[0;34m(\u001b[0m\u001b[0ma1\u001b[0m\u001b[0;34m)\u001b[0m\u001b[0;34m\u001b[0m\u001b[0;34m\u001b[0m\u001b[0m\n\u001b[0m",
            "\u001b[0;31mNameError\u001b[0m: name 'a1' is not defined"
          ]
        }
      ]
    },
    {
      "cell_type": "code",
      "metadata": {
        "colab": {
          "base_uri": "https://localhost:8080/",
          "height": 212
        },
        "id": "KLpblXTtxAws",
        "outputId": "b2cc228d-608c-4505-b088-a756181d7ddd"
      },
      "source": [
        "def print_message():    \n",
        "    message = \"hello !! I am going to print a message.\" # the variable message is local to the function itself    \n",
        "    print(message)    \n",
        "print_message()    \n",
        "print(message) # this will cause an error since a local variable cannot be accessible here.   "
      ],
      "execution_count": null,
      "outputs": [
        {
          "output_type": "stream",
          "name": "stdout",
          "text": [
            "hello !! I am going to print a message.\n"
          ]
        },
        {
          "output_type": "error",
          "ename": "NameError",
          "evalue": "ignored",
          "traceback": [
            "\u001b[0;31m---------------------------------------------------------------------------\u001b[0m",
            "\u001b[0;31mNameError\u001b[0m                                 Traceback (most recent call last)",
            "\u001b[0;32m<ipython-input-35-c5d422f311be>\u001b[0m in \u001b[0;36m<module>\u001b[0;34m()\u001b[0m\n\u001b[1;32m      3\u001b[0m     \u001b[0mprint\u001b[0m\u001b[0;34m(\u001b[0m\u001b[0mmessage\u001b[0m\u001b[0;34m)\u001b[0m\u001b[0;34m\u001b[0m\u001b[0;34m\u001b[0m\u001b[0m\n\u001b[1;32m      4\u001b[0m \u001b[0mprint_message\u001b[0m\u001b[0;34m(\u001b[0m\u001b[0;34m)\u001b[0m\u001b[0;34m\u001b[0m\u001b[0;34m\u001b[0m\u001b[0m\n\u001b[0;32m----> 5\u001b[0;31m \u001b[0mprint\u001b[0m\u001b[0;34m(\u001b[0m\u001b[0mmessage\u001b[0m\u001b[0;34m)\u001b[0m \u001b[0;31m# this will cause an error since a local variable cannot be accessible here.\u001b[0m\u001b[0;34m\u001b[0m\u001b[0;34m\u001b[0m\u001b[0m\n\u001b[0m",
            "\u001b[0;31mNameError\u001b[0m: name 'message' is not defined"
          ]
        }
      ]
    },
    {
      "cell_type": "markdown",
      "metadata": {
        "id": "6k46s878xdtX"
      },
      "source": [
        "Example 2 Global Variable"
      ]
    },
    {
      "cell_type": "code",
      "metadata": {
        "colab": {
          "base_uri": "https://localhost:8080/"
        },
        "id": "tTfKbJOuxD1E",
        "outputId": "de9a0d72-d43d-478b-cabb-61d124073cbb"
      },
      "source": [
        "def calculate(*args):    \n",
        "    sum=0    \n",
        "    for arg in args:    \n",
        "        sum = sum +arg    \n",
        "    print(\"The sum is\",sum)    \n",
        "sum=0    \n",
        "calculate(10,20,30) #60 will be printed as the sum    \n",
        "print(\"Value of sum outside the function:\",sum) # 0 will be printed  Output:  "
      ],
      "execution_count": null,
      "outputs": [
        {
          "output_type": "stream",
          "name": "stdout",
          "text": [
            "The sum is 60\n",
            "Value of sum outside the function: 0\n"
          ]
        }
      ]
    },
    {
      "cell_type": "markdown",
      "metadata": {
        "id": "szTFOzT8wJcx"
      },
      "source": [
        "14.11.2021"
      ]
    },
    {
      "cell_type": "code",
      "metadata": {
        "id": "2mEUK5B6Hni4",
        "colab": {
          "base_uri": "https://localhost:8080/"
        },
        "outputId": "3e026c54-befe-4679-adbd-7cf4f7e07e3d"
      },
      "source": [
        "p = 20\n",
        "def global_local_example():\n",
        "    q = 10\n",
        "    print(\"Local Variable value\",q)\n",
        "    print(\"Global Variable value\",p)\n",
        "print(\"Global Variable value accessing outside function\",p)\n",
        "#print(\"Local Variable value\",q)\n",
        "global_local_example()"
      ],
      "execution_count": null,
      "outputs": [
        {
          "output_type": "stream",
          "name": "stdout",
          "text": [
            "Global Variable value accessing outside function 20\n",
            "Local Variable value 10\n",
            "Global Variable value 20\n"
          ]
        }
      ]
    },
    {
      "cell_type": "markdown",
      "metadata": {
        "id": "WuTRvBR6Hni5"
      },
      "source": [
        "# Local and Global Variables with same name"
      ]
    },
    {
      "cell_type": "code",
      "metadata": {
        "id": "upJXVtVnHni6",
        "colab": {
          "base_uri": "https://localhost:8080/"
        },
        "outputId": "7a6c8d4c-e88c-450f-f340-675613071bb8"
      },
      "source": [
        "a = 20\n",
        "def same():\n",
        "    a = 10\n",
        "    print(a)\n",
        "same()\n",
        "print(a)"
      ],
      "execution_count": null,
      "outputs": [
        {
          "output_type": "stream",
          "name": "stdout",
          "text": [
            "10\n",
            "20\n"
          ]
        }
      ]
    },
    {
      "cell_type": "markdown",
      "metadata": {
        "id": "oCsuDU4cHni7"
      },
      "source": [
        "# Global Statement"
      ]
    },
    {
      "cell_type": "markdown",
      "metadata": {
        "id": "_l2JILsSHni8"
      },
      "source": [
        "- If a variable is assigned a value anywhere with in the function's body,it's assumed to be a local unless explicitly declared as global"
      ]
    },
    {
      "cell_type": "code",
      "metadata": {
        "id": "9cONqBUmHni8",
        "colab": {
          "base_uri": "https://localhost:8080/"
        },
        "outputId": "d9479fb9-b607-44f1-899e-7f335b01aa8b"
      },
      "source": [
        "a = 20\n",
        "def global_statement():\n",
        "    global a\n",
        "    print(\"Global :\",a)\n",
        "    a = 30\n",
        "    print(\"Value of a inside function = \", a)\n",
        "global_statement()\n",
        "print(\"Value of a outside function = \", a)"
      ],
      "execution_count": null,
      "outputs": [
        {
          "output_type": "stream",
          "name": "stdout",
          "text": [
            "Global : 20\n",
            "Value of a inside function =  30\n",
            "Value of a outside function =  30\n"
          ]
        }
      ]
    },
    {
      "cell_type": "code",
      "metadata": {
        "colab": {
          "base_uri": "https://localhost:8080/"
        },
        "id": "3M_K155ywly9",
        "outputId": "bd4b1916-63b5-4a7b-a00b-09754df31221"
      },
      "source": [
        "a = 20\n",
        "def global_statement(x):\n",
        "    global a\n",
        "    print(\"Global :\",a)\n",
        "   # return x\n",
        "    \n",
        "global_statement(2)\n"
      ],
      "execution_count": null,
      "outputs": [
        {
          "output_type": "stream",
          "name": "stdout",
          "text": [
            "Global : 20\n"
          ]
        },
        {
          "output_type": "execute_result",
          "data": {
            "text/plain": [
              "2"
            ]
          },
          "metadata": {},
          "execution_count": 10
        }
      ]
    },
    {
      "cell_type": "code",
      "metadata": {
        "colab": {
          "base_uri": "https://localhost:8080/"
        },
        "id": "lGfBYis1wq5g",
        "outputId": "27615343-f697-4111-8848-762b95b1b2db"
      },
      "source": [
        "a = 20\n",
        "def without_global_statement(a):\n",
        "    print(\"without global :\",a)\n",
        "    #return a    \n",
        "without_global_statement(2)\n"
      ],
      "execution_count": null,
      "outputs": [
        {
          "output_type": "stream",
          "name": "stdout",
          "text": [
            "without global : 2\n"
          ]
        }
      ]
    },
    {
      "cell_type": "markdown",
      "metadata": {
        "id": "rLNzLaQmHni9"
      },
      "source": [
        "# Functions Calling Functions\n",
        "## Return Statement"
      ]
    },
    {
      "cell_type": "code",
      "metadata": {
        "id": "nA1gbU3sHni9"
      },
      "source": [
        "def first_function(n):\n",
        "  return n + 1\n",
        "    \n",
        "def second_function(n):\n",
        "  return n + 2 # return statement is used to return a value from the function / break out of a function."
      ],
      "execution_count": null,
      "outputs": []
    },
    {
      "cell_type": "code",
      "metadata": {
        "id": "FJDI5NupHni-",
        "colab": {
          "base_uri": "https://localhost:8080/"
        },
        "outputId": "23bc3746-dfd5-4389-9947-58f517789d9e"
      },
      "source": [
        "second_function(10)"
      ],
      "execution_count": null,
      "outputs": [
        {
          "output_type": "execute_result",
          "data": {
            "text/plain": [
              "12"
            ]
          },
          "metadata": {},
          "execution_count": 33
        }
      ]
    },
    {
      "cell_type": "code",
      "metadata": {
        "id": "Lu-ND5HaHni-"
      },
      "source": [
        "def first_function(n):\n",
        "  return n + 1\n",
        "    \n",
        "def second_function(n):\n",
        "  return first_function(n) + 2"
      ],
      "execution_count": null,
      "outputs": []
    },
    {
      "cell_type": "code",
      "metadata": {
        "id": "X0FUOCxhHni_",
        "colab": {
          "base_uri": "https://localhost:8080/"
        },
        "outputId": "9f0a2032-9994-419f-bdf1-aa52152b0fa9"
      },
      "source": [
        "second_function(10)"
      ],
      "execution_count": null,
      "outputs": [
        {
          "output_type": "execute_result",
          "data": {
            "text/plain": [
              "13"
            ]
          },
          "metadata": {},
          "execution_count": 43
        }
      ]
    },
    {
      "cell_type": "code",
      "metadata": {
        "id": "Y0c23e4qHnjA"
      },
      "source": [
        "def area_rect(l,b):\n",
        "    if l<0 or b<0:\n",
        "        return # if function does not return anything, the default value function return is none\n",
        "    else:\n",
        "        print(\"Length = {}, Breadth = {}\".format(l,b))\n",
        "        return l*b\n",
        "    \n",
        "    \n",
        "area_rect(-1,6)"
      ],
      "execution_count": null,
      "outputs": []
    },
    {
      "cell_type": "markdown",
      "metadata": {
        "id": "rrKTDaqXHnjB"
      },
      "source": [
        "# Return Multiple Values to variable(s)"
      ]
    },
    {
      "cell_type": "code",
      "metadata": {
        "id": "D-6-DvQiHnjB",
        "colab": {
          "base_uri": "https://localhost:8080/"
        },
        "outputId": "84574b39-09a7-47ce-a045-25a1b000ddb3"
      },
      "source": [
        "def square_cube(num):\n",
        "    print(\"Number = \", num)\n",
        "    return num*num, num*num*num\n",
        "\n",
        "\n",
        "square,cube=square_cube(4)\n",
        "print(\"Square = \", square, \"Cube = \", cube)"
      ],
      "execution_count": null,
      "outputs": [
        {
          "output_type": "stream",
          "name": "stdout",
          "text": [
            "Number =  4\n",
            "Square =  16 Cube =  64\n"
          ]
        }
      ]
    },
    {
      "cell_type": "markdown",
      "metadata": {
        "id": "IdsSYVj8HnjB"
      },
      "source": [
        "# Write a program to find cube of a number and check if the cube is divisible by 3 or not (Hint : use one function in function)"
      ]
    },
    {
      "cell_type": "code",
      "metadata": {
        "id": "nJK9vKW2HnjB"
      },
      "source": [
        "def cube(number):\n",
        "  return number**3\n",
        "def by_three(number):\n",
        "  if number%3 == 0:\n",
        "    result = cube(number)\n",
        "    return result\n",
        "  else:\n",
        "    return False"
      ],
      "execution_count": null,
      "outputs": []
    },
    {
      "cell_type": "code",
      "metadata": {
        "id": "uIHgvZoCHnjC",
        "colab": {
          "base_uri": "https://localhost:8080/"
        },
        "outputId": "d158876f-8407-4f26-edde-196679fef588"
      },
      "source": [
        "by_three(9)"
      ],
      "execution_count": null,
      "outputs": [
        {
          "output_type": "execute_result",
          "data": {
            "text/plain": [
              "False"
            ]
          },
          "metadata": {},
          "execution_count": 18
        }
      ]
    },
    {
      "cell_type": "markdown",
      "metadata": {
        "id": "uiA7guQCHnjC"
      },
      "source": [
        "# Built in Functions"
      ]
    },
    {
      "cell_type": "markdown",
      "metadata": {
        "id": "rSt9J86xHnjC"
      },
      "source": [
        "# One Example of how to use a built in Function"
      ]
    },
    {
      "cell_type": "markdown",
      "metadata": {
        "id": "W16U83MFHnjD"
      },
      "source": [
        "### ( *args)  used to write anythings in it as a input "
      ]
    },
    {
      "cell_type": "code",
      "metadata": {
        "id": "wLNKbSpfHnjD"
      },
      "source": [
        "def biggest_number(*args):\n",
        "  print(max(args))\n",
        "  return max(args)\n",
        "    \n",
        "def smallest_number(*args):\n",
        "  print(min(args))\n",
        "  return min(args)\n",
        "\n",
        "def distance_from_zero(arg):\n",
        "  print(abs(arg))\n",
        "  return abs(arg)"
      ],
      "execution_count": null,
      "outputs": []
    },
    {
      "cell_type": "code",
      "metadata": {
        "id": "Gd14QzwdHnjD",
        "colab": {
          "base_uri": "https://localhost:8080/"
        },
        "outputId": "0d44c7a6-2d56-4413-a540-4ad40448ab81"
      },
      "source": [
        "biggest_number(-10, 20.5,67,98,700)"
      ],
      "execution_count": null,
      "outputs": [
        {
          "output_type": "stream",
          "name": "stdout",
          "text": [
            "700\n"
          ]
        },
        {
          "output_type": "execute_result",
          "data": {
            "text/plain": [
              "700"
            ]
          },
          "metadata": {},
          "execution_count": 20
        }
      ]
    },
    {
      "cell_type": "code",
      "metadata": {
        "id": "ikaXUpSkHnjD",
        "colab": {
          "base_uri": "https://localhost:8080/"
        },
        "outputId": "7df06223-c5db-4016-c6ba-17fe1bfef996"
      },
      "source": [
        "biggest_number(-10, -5, 5, 10)"
      ],
      "execution_count": null,
      "outputs": [
        {
          "output_type": "stream",
          "name": "stdout",
          "text": [
            "10\n"
          ]
        },
        {
          "output_type": "execute_result",
          "data": {
            "text/plain": [
              "10"
            ]
          },
          "metadata": {},
          "execution_count": 21
        }
      ]
    },
    {
      "cell_type": "code",
      "metadata": {
        "id": "NeQh0smYHnjE",
        "colab": {
          "base_uri": "https://localhost:8080/"
        },
        "outputId": "76a19f1d-466f-4d53-9b27-a0290583a62b"
      },
      "source": [
        "smallest_number(-10, -5, 5, 10)"
      ],
      "execution_count": null,
      "outputs": [
        {
          "output_type": "stream",
          "name": "stdout",
          "text": [
            "-10\n"
          ]
        },
        {
          "output_type": "execute_result",
          "data": {
            "text/plain": [
              "-10"
            ]
          },
          "metadata": {},
          "execution_count": 22
        }
      ]
    },
    {
      "cell_type": "code",
      "metadata": {
        "id": "ZR3mkvyTHnjE",
        "colab": {
          "base_uri": "https://localhost:8080/"
        },
        "outputId": "712e577b-12f9-439f-ce2a-9deb76ae03d4"
      },
      "source": [
        "distance_from_zero(-10)"
      ],
      "execution_count": null,
      "outputs": [
        {
          "output_type": "stream",
          "name": "stdout",
          "text": [
            "10\n"
          ]
        },
        {
          "output_type": "execute_result",
          "data": {
            "text/plain": [
              "10"
            ]
          },
          "metadata": {},
          "execution_count": 23
        }
      ]
    },
    {
      "cell_type": "code",
      "metadata": {
        "id": "2EURRUrMHnjE"
      },
      "source": [
        "def dd(*args):\n",
        "    return str(args)"
      ],
      "execution_count": null,
      "outputs": []
    },
    {
      "cell_type": "code",
      "metadata": {
        "id": "ParwQb4zHnjE",
        "colab": {
          "base_uri": "https://localhost:8080/",
          "height": 35
        },
        "outputId": "e126d15c-dbef-4fa0-8822-ea499698a4a1"
      },
      "source": [
        "dd(\"python\")"
      ],
      "execution_count": null,
      "outputs": [
        {
          "output_type": "execute_result",
          "data": {
            "application/vnd.google.colaboratory.intrinsic+json": {
              "type": "string"
            },
            "text/plain": [
              "\"('python',)\""
            ]
          },
          "metadata": {},
          "execution_count": 25
        }
      ]
    },
    {
      "cell_type": "code",
      "metadata": {
        "id": "sExpYNBfHnjF",
        "colab": {
          "base_uri": "https://localhost:8080/"
        },
        "outputId": "9bc31048-6512-442c-b17f-487c17c0bda3"
      },
      "source": [
        "print(type(45))\n",
        "print(type(4.5))\n",
        "print(type(\"Hello\"))"
      ],
      "execution_count": null,
      "outputs": [
        {
          "output_type": "stream",
          "name": "stdout",
          "text": [
            "<class 'int'>\n",
            "<class 'float'>\n",
            "<class 'str'>\n"
          ]
        }
      ]
    },
    {
      "cell_type": "markdown",
      "metadata": {
        "id": "sMYavjANHnjF"
      },
      "source": [
        "## Write factors of a numbers"
      ]
    },
    {
      "cell_type": "code",
      "metadata": {
        "id": "_dXH0pRgHnjG"
      },
      "source": [
        "def factors():\n",
        "    \n",
        "    num = int(input(\"Enter a number to find factors of number :\"))\n",
        "    for i in range(1,num+1):\n",
        "        if num%i == 0:\n",
        "            print(i)"
      ],
      "execution_count": null,
      "outputs": []
    },
    {
      "cell_type": "code",
      "metadata": {
        "id": "wYyU5ydXHnjG",
        "colab": {
          "base_uri": "https://localhost:8080/"
        },
        "outputId": "d55d6a24-9de6-427d-c667-70455bc5c207"
      },
      "source": [
        "factors()"
      ],
      "execution_count": null,
      "outputs": [
        {
          "output_type": "stream",
          "name": "stdout",
          "text": [
            "Enter a number to find factors of number :20\n",
            "1\n",
            "2\n",
            "4\n",
            "5\n",
            "10\n",
            "20\n"
          ]
        }
      ]
    },
    {
      "cell_type": "code",
      "metadata": {
        "id": "IJAnuL6vHnjG"
      },
      "source": [
        "import math \n",
        "# from math import *\n",
        "# from math import sqrt"
      ],
      "execution_count": null,
      "outputs": []
    },
    {
      "cell_type": "code",
      "metadata": {
        "id": "Ps63H-e0HnjG",
        "colab": {
          "base_uri": "https://localhost:8080/"
        },
        "outputId": "a64c9129-4462-44a2-f0ae-b032f8094505"
      },
      "source": [
        "print(math.sqrt(64))"
      ],
      "execution_count": null,
      "outputs": [
        {
          "output_type": "stream",
          "name": "stdout",
          "text": [
            "8.0\n"
          ]
        }
      ]
    },
    {
      "cell_type": "code",
      "metadata": {
        "id": "Ethj_z_oHnjH",
        "colab": {
          "base_uri": "https://localhost:8080/"
        },
        "outputId": "42386734-3649-48cf-9fac-6a1227d6289f"
      },
      "source": [
        "import math # Imports the math module\n",
        "everything = dir(math) # Sets everything to a list of things from math\n",
        "print(everything) # Prints 'em all!"
      ],
      "execution_count": null,
      "outputs": [
        {
          "output_type": "stream",
          "name": "stdout",
          "text": [
            "['__doc__', '__loader__', '__name__', '__package__', '__spec__', 'acos', 'acosh', 'asin', 'asinh', 'atan', 'atan2', 'atanh', 'ceil', 'copysign', 'cos', 'cosh', 'degrees', 'e', 'erf', 'erfc', 'exp', 'expm1', 'fabs', 'factorial', 'floor', 'fmod', 'frexp', 'fsum', 'gamma', 'gcd', 'hypot', 'inf', 'isclose', 'isfinite', 'isinf', 'isnan', 'ldexp', 'lgamma', 'log', 'log10', 'log1p', 'log2', 'modf', 'nan', 'pi', 'pow', 'radians', 'remainder', 'sin', 'sinh', 'sqrt', 'tan', 'tanh', 'tau', 'trunc']\n"
          ]
        }
      ]
    },
    {
      "cell_type": "code",
      "metadata": {
        "id": "Yv2pW1eRHnjH",
        "colab": {
          "base_uri": "https://localhost:8080/",
          "height": 35
        },
        "outputId": "ec9dcf4b-a103-4926-b4c1-69db17e0786e"
      },
      "source": [
        "def shut_down(s):\n",
        "  if s == \"yes\":\n",
        "    return \"Shutting Down\"\n",
        "  elif s == \"no\":\n",
        "    return \"Shutdown Aborted\"\n",
        "  else:\n",
        "    return \"Sorry\"\n",
        "shut_down(\"yes\")"
      ],
      "execution_count": null,
      "outputs": [
        {
          "output_type": "execute_result",
          "data": {
            "application/vnd.google.colaboratory.intrinsic+json": {
              "type": "string"
            },
            "text/plain": [
              "'Shutting Down'"
            ]
          },
          "metadata": {},
          "execution_count": 36
        }
      ]
    },
    {
      "cell_type": "code",
      "metadata": {
        "id": "Tjon1m1xHnjH"
      },
      "source": [
        "# Write a program to create a function and print the absolute value of number if the type of number is int or float."
      ],
      "execution_count": null,
      "outputs": []
    },
    {
      "cell_type": "code",
      "metadata": {
        "id": "V67elAgdHnjH"
      },
      "source": [
        "def distance_from_zero(num):\n",
        "  if type(num) == int or type(num) == float:\n",
        "    return abs(num)\n",
        "  else:\n",
        "    return \"Nope\""
      ],
      "execution_count": null,
      "outputs": []
    },
    {
      "cell_type": "code",
      "metadata": {
        "id": "d4oNN6HrHnjI",
        "colab": {
          "base_uri": "https://localhost:8080/"
        },
        "outputId": "86258409-86e5-4df4-8474-9d93940057da"
      },
      "source": [
        "distance_from_zero(-15.6)"
      ],
      "execution_count": null,
      "outputs": [
        {
          "output_type": "execute_result",
          "data": {
            "text/plain": [
              "15.6"
            ]
          },
          "metadata": {},
          "execution_count": 38
        }
      ]
    },
    {
      "cell_type": "markdown",
      "metadata": {
        "id": "MVFtWCmTHnjI"
      },
      "source": [
        "# Tasks\n",
        "\n",
        "- Calculate distance between two points sqrt((x2-x1)^2 + (y2-y1)^2)\n",
        "- For a Quadratic Equation ax^2 + bx + c the discriminant D is (b^2 - 4ac). Write a function to compute the discriminant D, that returns the following output depending on the discriminant D.\n",
        "  \n",
        "  ***Conditions:***\n",
        "      - if D>0: The Equation has two Real roots\n",
        "      - if D=0: The Equation has one Real root\n",
        "      - if D<0: The Equation has two Complex roots."
      ]
    },
    {
      "cell_type": "markdown",
      "metadata": {
        "id": "50yx2d08HnjI"
      },
      "source": [
        "# Changing the functionality of a function"
      ]
    },
    {
      "cell_type": "markdown",
      "metadata": {
        "id": "6MKxl1-IHnjI"
      },
      "source": [
        "### Change the function so the given argument is multiplied by 3 and returned."
      ]
    },
    {
      "cell_type": "code",
      "metadata": {
        "id": "itI35-fnHnjI",
        "colab": {
          "base_uri": "https://localhost:8080/"
        },
        "outputId": "2e34693b-3cba-44b1-802a-500690498294"
      },
      "source": [
        "number = 5\n",
        "\n",
        "def my_function(x):\n",
        "  return x * 3\n",
        "\n",
        "print(my_function(number))"
      ],
      "execution_count": null,
      "outputs": [
        {
          "output_type": "stream",
          "name": "stdout",
          "text": [
            "15\n"
          ]
        }
      ]
    },
    {
      "cell_type": "markdown",
      "metadata": {
        "id": "-5MUP8tMHnjJ"
      },
      "source": [
        "# More than one argument"
      ]
    },
    {
      "cell_type": "markdown",
      "metadata": {
        "id": "TTdhKOGcHnjJ"
      },
      "source": [
        "### Shows how to use more than one argument in a function."
      ]
    },
    {
      "cell_type": "code",
      "metadata": {
        "id": "wwSGf1FmHnjJ",
        "colab": {
          "base_uri": "https://localhost:8080/"
        },
        "outputId": "3582380f-7b5e-4795-9a5f-bfaa27b39737"
      },
      "source": [
        "m = 5\n",
        "n = 13\n",
        "# Add add_function here!\n",
        "def add_function(x,y):\n",
        "  return x+y\n",
        "\n",
        "\n",
        "print(add_function(m, n))"
      ],
      "execution_count": null,
      "outputs": [
        {
          "output_type": "stream",
          "name": "stdout",
          "text": [
            "18\n"
          ]
        }
      ]
    },
    {
      "cell_type": "markdown",
      "metadata": {
        "id": "V_My_Fv-HnjJ"
      },
      "source": [
        "# Strings in functions"
      ]
    },
    {
      "cell_type": "code",
      "metadata": {
        "id": "qN4vReZjHnjK",
        "colab": {
          "base_uri": "https://localhost:8080/"
        },
        "outputId": "253106c7-6b07-42cf-eec1-52b7162bf786"
      },
      "source": [
        "n = \"Hello\"\n",
        "# Your function here!\n",
        "def string_function(s):\n",
        "  return s+' world'\n",
        "\n",
        "\n",
        "print(string_function(n))"
      ],
      "execution_count": null,
      "outputs": [
        {
          "output_type": "stream",
          "name": "stdout",
          "text": [
            "Hello world\n"
          ]
        }
      ]
    },
    {
      "cell_type": "markdown",
      "metadata": {
        "id": "uNAuT5QIHnjK"
      },
      "source": [
        "# Passing a list to a function"
      ]
    },
    {
      "cell_type": "markdown",
      "metadata": {
        "id": "md3YVQKmHnjK"
      },
      "source": [
        "### Can pass a list to a function the same way you pass any other argument to a function."
      ]
    },
    {
      "cell_type": "code",
      "metadata": {
        "id": "loGkk-PsHnjK",
        "colab": {
          "base_uri": "https://localhost:8080/"
        },
        "outputId": "8afb0a87-352c-41b8-a740-523e06633cb5"
      },
      "source": [
        "def list_function(x):\n",
        "  return x\n",
        "\n",
        "n = [3, 5, 7]\n",
        "print(list_function(n))"
      ],
      "execution_count": null,
      "outputs": [
        {
          "output_type": "stream",
          "name": "stdout",
          "text": [
            "[3, 5, 7]\n"
          ]
        }
      ]
    },
    {
      "cell_type": "code",
      "metadata": {
        "id": "Fe5one0zHnjL",
        "colab": {
          "base_uri": "https://localhost:8080/"
        },
        "outputId": "f29f656d-9ca9-4e67-8290-0c07e3914917"
      },
      "source": [
        "def list_function(x):\n",
        "  return x[1]\n",
        "\n",
        "n = [3, 5, 7]\n",
        "print(list_function(n))"
      ],
      "execution_count": null,
      "outputs": [
        {
          "output_type": "stream",
          "name": "stdout",
          "text": [
            "5\n"
          ]
        }
      ]
    },
    {
      "cell_type": "markdown",
      "metadata": {
        "id": "x9r6n7YmHnjL"
      },
      "source": [
        "# Modifying an element of a list in a function"
      ]
    },
    {
      "cell_type": "code",
      "metadata": {
        "id": "tZQINHLrHnjL",
        "colab": {
          "base_uri": "https://localhost:8080/"
        },
        "outputId": "27b71f26-433e-4021-f08c-ac928c97892b"
      },
      "source": [
        "def list_function(x):\n",
        "  x[1] = x[1] + 3\n",
        "  return x\n",
        "\n",
        "n = [3, 5, 7]\n",
        "print(list_function(n))\n",
        "print(n)"
      ],
      "execution_count": null,
      "outputs": [
        {
          "output_type": "stream",
          "name": "stdout",
          "text": [
            "[3, 8, 7]\n",
            "[3, 8, 7]\n"
          ]
        }
      ]
    },
    {
      "cell_type": "markdown",
      "metadata": {
        "id": "3C_t7DIBHnjL"
      },
      "source": [
        "# List manipulation in functions"
      ]
    },
    {
      "cell_type": "markdown",
      "metadata": {
        "id": "FC-JSf_hHnjL"
      },
      "source": [
        "### You can also append or delete items of a list inside a function just as if you were manipulating the list outside a function."
      ]
    },
    {
      "cell_type": "code",
      "metadata": {
        "id": "o4Iqu4XXHnjM",
        "colab": {
          "base_uri": "https://localhost:8080/"
        },
        "outputId": "fe60d719-f802-4630-aaf2-a4d86c632e56"
      },
      "source": [
        "n = [3, 5, 7]\n",
        "# Add your function here\n",
        "def list_extender(lst):\n",
        "  lst.append(9)\n",
        "  return lst\n",
        "\n",
        "\n",
        "print(list_extender(n))"
      ],
      "execution_count": null,
      "outputs": [
        {
          "output_type": "stream",
          "name": "stdout",
          "text": [
            "[3, 5, 7, 9]\n"
          ]
        }
      ]
    },
    {
      "cell_type": "markdown",
      "metadata": {
        "id": "lTx5pofGHnjM"
      },
      "source": [
        "# Printing out a list item by item in a function"
      ]
    },
    {
      "cell_type": "markdown",
      "metadata": {
        "id": "nFaihOlhHnjM"
      },
      "source": [
        "### The below code shows how to utilize every element in a list in a function."
      ]
    },
    {
      "cell_type": "code",
      "metadata": {
        "id": "0bYho0WYHnjM",
        "colab": {
          "base_uri": "https://localhost:8080/"
        },
        "outputId": "6eacdbda-7f98-4333-c54a-09f49a42c793"
      },
      "source": [
        "n = [3, 5, 7]\n",
        "\n",
        "def print_list(x):\n",
        "  for i in range(0, len(x)):\n",
        "    print(x[i])\n",
        "    \n",
        "print_list(n)"
      ],
      "execution_count": null,
      "outputs": [
        {
          "output_type": "stream",
          "name": "stdout",
          "text": [
            "3\n",
            "5\n",
            "7\n"
          ]
        }
      ]
    },
    {
      "cell_type": "markdown",
      "metadata": {
        "id": "KxoAR3deHnjM"
      },
      "source": [
        "# Modifying each element in a list in a function"
      ]
    },
    {
      "cell_type": "markdown",
      "metadata": {
        "id": "de4pDtbiHnjN"
      },
      "source": [
        "### The below code shows how to modify each element in a list."
      ]
    },
    {
      "cell_type": "code",
      "metadata": {
        "id": "YXc24uImHnjN",
        "colab": {
          "base_uri": "https://localhost:8080/"
        },
        "outputId": "efee56e7-2b43-45cd-ad59-69afd2ac1c7c"
      },
      "source": [
        "n = [3, 5, 7]\n",
        "\n",
        "def double_list(x):\n",
        "  for i in range(0, len(x)):\n",
        "    x[i] = x[i] * 2\n",
        "  return x\n",
        "# Don't forget to return your new list!\n",
        "\n",
        "print(double_list(n))"
      ],
      "execution_count": null,
      "outputs": [
        {
          "output_type": "stream",
          "name": "stdout",
          "text": [
            "[6, 10, 14]\n"
          ]
        }
      ]
    },
    {
      "cell_type": "markdown",
      "metadata": {
        "id": "h8sHmQ24HnjN"
      },
      "source": [
        "# Passing a range into a function"
      ]
    },
    {
      "cell_type": "markdown",
      "metadata": {
        "id": "UmaVt1JbHnjN"
      },
      "source": [
        "### The Python range() function is just a shortcut for generating a list, so you can use ranges in all the same places you can use lists."
      ]
    },
    {
      "cell_type": "code",
      "metadata": {
        "id": "iMDFjiVaHnjN",
        "colab": {
          "base_uri": "https://localhost:8080/"
        },
        "outputId": "efb28eaf-509d-4d1d-9bd0-d00df990f870"
      },
      "source": [
        "a = []\n",
        "def my_function(x):\n",
        "  for i in range(0, len(x)):\n",
        "    a.append(i)\n",
        "  return a\n",
        "\n",
        "print(my_function(range(3))) # Add your range between the parentheses!"
      ],
      "execution_count": null,
      "outputs": [
        {
          "output_type": "stream",
          "name": "stdout",
          "text": [
            "[0, 1, 2]\n"
          ]
        }
      ]
    },
    {
      "cell_type": "markdown",
      "metadata": {
        "id": "bdmC-CpOHnjN"
      },
      "source": [
        "# Iterating over a list in a function"
      ]
    },
    {
      "cell_type": "code",
      "metadata": {
        "id": "ayH190h6HnjO",
        "colab": {
          "base_uri": "https://localhost:8080/"
        },
        "outputId": "6aa15ca6-7dcd-4539-c89d-18dc55ef3300"
      },
      "source": [
        "n = [3, 5, 7]\n",
        "\n",
        "def total(numbers):\n",
        "  result = 0\n",
        "  for item in numbers:\n",
        "    result = result + item\n",
        "  return result\n",
        "  \n",
        "print(total(n))"
      ],
      "execution_count": null,
      "outputs": [
        {
          "output_type": "stream",
          "name": "stdout",
          "text": [
            "15\n"
          ]
        }
      ]
    },
    {
      "cell_type": "markdown",
      "metadata": {
        "id": "heWBYGUtHnjO"
      },
      "source": [
        "# Using strings in lists in functions"
      ]
    },
    {
      "cell_type": "code",
      "metadata": {
        "id": "iGWfx4xdHnjO",
        "outputId": "33cfcecb-810e-4109-bebc-af3b057f4041"
      },
      "source": [
        "n = [\"Michael\", \"Lieberman\"]\n",
        "# Add your function here\n",
        "def join_strings(words):\n",
        "  result = ''\n",
        "  for item in words:\n",
        "    result = result + item\n",
        "  return result\n",
        "\n",
        "\n",
        "print(join_strings(n))"
      ],
      "execution_count": null,
      "outputs": [
        {
          "output_type": "stream",
          "text": [
            "MichaelLieberman\n"
          ],
          "name": "stdout"
        }
      ]
    },
    {
      "cell_type": "markdown",
      "metadata": {
        "id": "FgNaxGdgHnjO"
      },
      "source": [
        "# Using two lists as two arguments in a function"
      ]
    },
    {
      "cell_type": "markdown",
      "metadata": {
        "id": "-7-B2vSlHnjO"
      },
      "source": [
        "### Using multiple lists in a function is no different from just using multiple arguments in a function!"
      ]
    },
    {
      "cell_type": "code",
      "metadata": {
        "id": "MtemnOwCHnjP",
        "outputId": "af2a612d-cb5d-4203-a6a4-1ad07316eb41"
      },
      "source": [
        "m = [1, 2, 3]\n",
        "n = [4, 5, 6]\n",
        "\n",
        "# Add your code here!\n",
        "def join_lists(x,y):\n",
        "  return x + y\n",
        "\n",
        "\n",
        "print(join_lists(m, n))\n",
        "# You want this to print [1, 2, 3, 4, 5, 6]"
      ],
      "execution_count": null,
      "outputs": [
        {
          "output_type": "stream",
          "text": [
            "[1, 2, 3, 4, 5, 6]\n"
          ],
          "name": "stdout"
        }
      ]
    },
    {
      "cell_type": "markdown",
      "metadata": {
        "id": "1A21EnLyHnjP"
      },
      "source": [
        "# Using a list of lists in a function"
      ]
    },
    {
      "cell_type": "markdown",
      "metadata": {
        "id": "00t8ATwWHnjP"
      },
      "source": [
        "### The below code shows how to make use of a single list that contains multiple lists and how to use them in a function."
      ]
    },
    {
      "cell_type": "code",
      "metadata": {
        "id": "rGMY3iJKHnjP",
        "outputId": "40bb91fd-4695-47fd-a78b-1c0ec24caef2"
      },
      "source": [
        "n = [[1, 2, 3], [4, 5, 6, 7, 8, 9]]\n",
        "# Add your function here\n",
        "def combine(lists):\n",
        "  results = []\n",
        "  for list1 in lists:\n",
        "    for number in list1:\n",
        "      results.append(number)\n",
        "  return results\n",
        "\n",
        "print(combine(n))"
      ],
      "execution_count": null,
      "outputs": [
        {
          "output_type": "stream",
          "text": [
            "[1, 2, 3, 4, 5, 6, 7, 8, 9]\n"
          ],
          "name": "stdout"
        }
      ]
    },
    {
      "cell_type": "code",
      "metadata": {
        "id": "SiQiIAfRHnjP"
      },
      "source": [
        "lists = [[1, 2, 3], [4, 5, 6, 7, 8, 9]]\n",
        "results= []\n",
        "for i in lists:\n",
        "    for j in i:\n",
        "        results.append(j)"
      ],
      "execution_count": null,
      "outputs": []
    },
    {
      "cell_type": "code",
      "metadata": {
        "id": "4q36fyvHHnjP",
        "outputId": "0aca1963-18e5-44a9-a2fc-320e77501445"
      },
      "source": [
        "results"
      ],
      "execution_count": null,
      "outputs": [
        {
          "output_type": "execute_result",
          "data": {
            "text/plain": [
              "[1, 2, 3, 4, 5, 6, 7, 8, 9]"
            ]
          },
          "metadata": {
            "tags": []
          },
          "execution_count": 17
        }
      ]
    },
    {
      "cell_type": "code",
      "metadata": {
        "id": "bf2ZpFJcHnjQ"
      },
      "source": [],
      "execution_count": null,
      "outputs": []
    }
  ]
}